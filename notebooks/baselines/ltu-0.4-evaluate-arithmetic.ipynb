{
 "cells": [
  {
   "cell_type": "markdown",
   "metadata": {},
   "source": [
    "## Load dependencies"
   ]
  },
  {
   "cell_type": "code",
   "execution_count": 1,
   "metadata": {},
   "outputs": [],
   "source": [
    "%load_ext autoreload\n",
    "%autoreload 2\n",
    "%matplotlib inline"
   ]
  },
  {
   "cell_type": "code",
   "execution_count": 2,
   "metadata": {},
   "outputs": [
    {
     "name": "stdout",
     "output_type": "stream",
     "text": [
      "2.0.0-alpha0\n",
      "GPU Available:  True\n"
     ]
    }
   ],
   "source": [
    "import os\n",
    "import pandas as pd\n",
    "import numpy as np\n",
    "from pathlib import Path\n",
    "import glob\n",
    "import pickle\n",
    "import json\n",
    "import matplotlib.pyplot as plt\n",
    "from lstm import LSTM_Simple\n",
    "from metrics import exact_match_metric, exact_match_metric_index\n",
    "from callbacks import NValidationSetsCallback, GradientLogger\n",
    "from tqdm import tqdm\n",
    "from evaluate_lstm import LSTM_Evaluator\n",
    "\n",
    "import sys\n",
    "sys.path.append('../../')\n",
    "from src.models.attention import LSTMWithAttention\n",
    "from src.models.generator import DataGenerator, DataGeneratorAttention\n",
    "\n",
    "from sklearn.model_selection import train_test_split\n",
    "import tensorflow as tf\n",
    "from tensorflow.keras.optimizers import Adam\n",
    "print(tf.__version__)\n",
    "print(\"GPU Available: \", tf.test.is_gpu_available())"
   ]
  },
  {
   "cell_type": "markdown",
   "metadata": {},
   "source": [
    "## Helper Function"
   ]
  },
  {
   "cell_type": "code",
   "execution_count": 3,
   "metadata": {},
   "outputs": [],
   "source": [
    "def plot_two_results(result_1, result_2=None, experiments=['L&L'], title=''):\n",
    "    labels = []\n",
    "    array_1 = []\n",
    "    array_2 = []\n",
    "    \n",
    "    for module in result_1:\n",
    "        labels.append(module.split('__')[1])\n",
    "        array_1.append(result_1[module])\n",
    "\n",
    "    if result_2 is not None:\n",
    "        for module in result_1:\n",
    "            array_2.append(result_2[module])\n",
    "\n",
    "    x = np.arange(len(labels))  # the label locations\n",
    "    width = 0.35  # the width of the bars\n",
    "\n",
    "    fig, ax = plt.subplots()\n",
    "    if result_2 is not None:\n",
    "        rects1 = ax.bar(x - width/2, array_1, width, label=experiments[0])\n",
    "        rects2 = ax.bar(x + width/2, array_2, width, label=experiments[1])\n",
    "    else:\n",
    "        rects1 = ax.bar(x, array_1, width, label=experiments[0])\n",
    "\n",
    "\n",
    "    # Add some text for labels, title and custom x-axis tick labels, etc.\n",
    "    ax.set_ylabel('Scores')\n",
    "    ax.set_title('Evaluation scores: ' + title)\n",
    "    ax.set_xticks(x)\n",
    "    ax.set_xticklabels(labels, rotation=30, ha=\"right\")\n",
    "    ax.legend()\n",
    "\n",
    "\n",
    "    def autolabel(rects):\n",
    "        \"\"\"Attach a text label above each bar in *rects*, displaying its height.\"\"\"\n",
    "        for rect in rects:\n",
    "            height = rect.get_height()\n",
    "            ax.annotate('{0:.2f}'.format(height),\n",
    "                        xy=(rect.get_x() + rect.get_width() / 2, height),\n",
    "                        xytext=(0, 3),  # 3 points vertical offset\n",
    "                        textcoords=\"offset points\",\n",
    "                        ha='center', va='bottom')\n",
    "\n",
    "\n",
    "    if result_2 is not None:\n",
    "        autolabel(rects2)\n",
    "\n",
    "    autolabel(rects1)\n",
    "\n",
    "    fig.tight_layout()\n",
    "    plt.ylim([0, 1.1])\n",
    "    plt.legend(loc='lower right')\n",
    "    plt.show()"
   ]
  },
  {
   "cell_type": "code",
   "execution_count": 4,
   "metadata": {},
   "outputs": [],
   "source": [
    "def concatenate_texts_individual(path, pattern):\n",
    "    file_paths = list(path.glob('{}*.txt'.format(pattern)))\n",
    "    \n",
    "    input_texts = {}\n",
    "    target_texts = {}\n",
    "\n",
    "    for file_path in file_paths:\n",
    "        if file_path.stem not in input_texts:\n",
    "            input_texts[file_path.stem] = []\n",
    "            target_texts[file_path.stem] = []\n",
    "        \n",
    "        with open(str(file_path), 'r', encoding='utf-8') as f:\n",
    "            lines = f.read().split('\\n')[:-1]\n",
    "\n",
    "        input_texts[file_path.stem].extend(lines[0::2])\n",
    "        target_texts[file_path.stem].extend(['\\t' + target_text + '\\n' for target_text in lines[1::2]])\n",
    "        \n",
    "    return input_texts, target_texts"
   ]
  },
  {
   "cell_type": "code",
   "execution_count": 5,
   "metadata": {},
   "outputs": [],
   "source": [
    "def get_data(settings_path):\n",
    "    with open(str(settings_path), 'r') as file:\n",
    "        settings_dict = json.load(file)\n",
    "\n",
    "    raw_path = Path(settings_dict['data_path'])/'raw/v1.0/'\n",
    "    interpolate_path = raw_path/'interpolate'\n",
    "    extrapolate_path = raw_path/'extrapolate'\n",
    "    train_easy_path = raw_path/'train-easy/'\n",
    "    \n",
    "    \n",
    "    math_module = settings_dict[\"math_module\"]\n",
    "    train_level = settings_dict[\"train_level\"]\n",
    "\n",
    "    datasets = {\n",
    "        'train':(raw_path, 'train-' + train_level + '/' + math_module),\n",
    "        'interpolate':(interpolate_path, math_module),\n",
    "        'extrapolate':(extrapolate_path, math_module)\n",
    "               }\n",
    "\n",
    "    input_texts = {}\n",
    "    target_texts = {}\n",
    "\n",
    "    for k, v in datasets.items():\n",
    "        input_texts[k], target_texts[k] = concatenate_texts_individual(v[0], v[1])\n",
    "    \n",
    "    return settings_dict, input_texts, target_texts"
   ]
  },
  {
   "cell_type": "code",
   "execution_count": 6,
   "metadata": {},
   "outputs": [],
   "source": [
    "def evaluate_arithmetics_interpolate(lstm_eval, input_texts, target_texts, print_res=False):\n",
    "    test_set = 'interpolate'\n",
    "    results = {}\n",
    "\n",
    "    results_deepmind = {'arithmetic__add_or_sub': 0.875,\n",
    "                        'arithmetic__add_or_sub_in_base': 0.925,\n",
    "                        'arithmetic__add_sub_multiple': .89,\n",
    "                        'arithmetic__mul_div_multiple': .91,\n",
    "                        'arithmetic__nearest_integer_root': .9,\n",
    "                        'arithmetic__mul': 0.55,\n",
    "                        'arithmetic__div': 0.82,\n",
    "                        'arithmetic__simplify_surd':0.08,\n",
    "                        'arithmetic__mixed': 0.4}\n",
    "\n",
    "    for module in input_texts[test_set]:\n",
    "        metric = lstm_eval.evaluate_model(input_texts[test_set][module], target_texts[test_set][module])\n",
    "        if print_res:\n",
    "            print(test_set, module)\n",
    "            print('metric:', metric, '\\n')        \n",
    "        results[module] = metric\n",
    "\n",
    "    plot_two_results(results, results_deepmind, experiments=['L&L', 'DM'], title='interpolation')\n",
    "    \n",
    "    return results, results_deepmind"
   ]
  },
  {
   "cell_type": "code",
   "execution_count": 7,
   "metadata": {},
   "outputs": [],
   "source": [
    "def evaluate_arithmetics_extrapolate(lstm_eval, input_texts, target_texts, print_res=False):\n",
    "    test_set = 'extrapolate'\n",
    "    results = {}\n",
    "\n",
    "    results_deepmind = {'arithmetic__add_or_sub_big': 0.82,\n",
    "                        'arithmetic__add_sub_multiple_longer': 0.22,\n",
    "                        'arithmetic__mul_big': .31,\n",
    "                        'arithmetic__mixed_longer': 0.02,\n",
    "                        'arithmetic__mul_div_multiple_longer': 0.34,\n",
    "                        'arithmetic__div_big':0.64}\n",
    "\n",
    "    for module in input_texts[test_set]:\n",
    "        \n",
    "        metric = lstm_eval.evaluate_model(input_texts[test_set][module], target_texts[test_set][module])\n",
    "        if print_res:\n",
    "            print(test_set, module)\n",
    "            print('metric:', metric, '\\n')\n",
    "        results[module] = metric\n",
    "\n",
    "    plot_two_results(results, results_deepmind, experiments=['L&L', 'DM'], title='extrapolation')\n",
    "    return results, results_deepmind"
   ]
  },
  {
   "cell_type": "code",
   "execution_count": 17,
   "metadata": {},
   "outputs": [],
   "source": [
    "class LSTMWithAttentionEvaluator:\n",
    "    \n",
    "    def __init__(self, path):\n",
    "        \n",
    "        with open(str(path/'settings.json'), 'r') as file:\n",
    "            self.settings_dict = json.load(file)\n",
    "\n",
    "        with open(str(path/'arithmetic-*.pkl'), 'rb') as file:\n",
    "            self.sequence_data = pickle.load(file) \n",
    "            self.token_index = self.sequence_data['input_token_index']\n",
    "\n",
    "        self.num_tokens = len(self.token_index)\n",
    "        \n",
    "        adam = Adam(lr=6e-4, beta_1=0.9, beta_2=0.995, epsilon=1e-9, decay=0.0, amsgrad=False, clipnorm=0.1)\n",
    "        self.lstm = LSTMWithAttention(sequence_data['num_encoder_tokens'], \n",
    "                         sequence_data['num_decoder_tokens'], \n",
    "                         sequence_data['max_encoder_seq_length'],\n",
    "                        sequence_data['max_decoder_seq_length'],\n",
    "                        settings_dict['num_encoder_units'],\n",
    "                        settings_dict['num_decoder_units'],\n",
    "                        settings_dict['embedding_dim'])\n",
    "        self.model = self.lstm.get_model()\n",
    "        self.model.load_weights(str(path/'model.h5'))\n",
    "        self.model.compile(optimizer=adam, loss='categorical_crossentropy', metrics=[exact_match_metric])\n",
    "        \n",
    "    def evaluate_model(self, input_texts, output_texts, teacher_forcing=True, batch_size=128, n_samples=1000):\n",
    "        max_seq_length  = max([len(txt_in)+len(txt_out) for txt_in, txt_out in zip(input_texts,output_texts)])\n",
    "        \n",
    "        data_gen_pars = {\n",
    "            \"batch_size\": settings_dict['batch_size'],\n",
    "            \"max_encoder_seq_length\": sequence_data['max_encoder_seq_length'],\n",
    "            \"max_decoder_seq_length\": sequence_data['max_decoder_seq_length'],\n",
    "            \"num_encoder_tokens\": sequence_data['num_encoder_tokens'],\n",
    "            \"num_decoder_tokens\": sequence_data['num_decoder_tokens'],\n",
    "            \"input_token_index\": sequence_data['input_token_index'],\n",
    "            \"target_token_index\": sequence_data['target_token_index'],\n",
    "            \"num_thinking_steps\": settings_dict[\"thinking_steps\"],\n",
    "        }\n",
    "        \n",
    "        self.data_generator = DataGeneratorAttention(input_texts=input_texts,\n",
    "                                               target_texts=output_texts,\n",
    "                                               **data_gen_pars)\n",
    "        \n",
    "        if not teacher_forcing:\n",
    "            outputs_true, outputs_preds = self.predict_without_teacher(n_samples, max_seq_length)\n",
    "            exact_match = len([0 for out_true, out_preds in zip(outputs_true, outputs_preds) if out_true.strip()==out_preds.strip()])/len(outputs_true)\n",
    "        \n",
    "        else:\n",
    "            result = self.model.evaluate_generator(self.data_generator, verbose=1)\n",
    "            exact_match = result[1]\n",
    "            \n",
    "        return exact_match\n",
    "    \n",
    "    def return_prediction(self, input_texts, output_texts, teacher_forcing=False, batch_size=128, n_samples=1000):\n",
    "        max_seq_length  = max([len(txt_in)+len(txt_out) for txt_in, txt_out in zip(input_texts,output_texts)])\n",
    "        \n",
    "        data_gen_pars = {\n",
    "            \"batch_size\": 1,\n",
    "            \"max_encoder_seq_length\": sequence_data['max_encoder_seq_length'],\n",
    "            \"max_decoder_seq_length\": sequence_data['max_decoder_seq_length'],\n",
    "            \"num_encoder_tokens\": sequence_data['num_encoder_tokens'],\n",
    "            \"num_decoder_tokens\": sequence_data['num_decoder_tokens'],\n",
    "            \"input_token_index\": sequence_data['input_token_index'],\n",
    "            \"target_token_index\": sequence_data['target_token_index'],\n",
    "            \"num_thinking_steps\": settings_dict[\"thinking_steps\"],\n",
    "        }\n",
    "        \n",
    "        self.data_generator = DataGeneratorAttention(input_texts=input_texts,\n",
    "                                               target_texts=output_texts,\n",
    "                                               **data_gen_pars)\n",
    "        \n",
    "        preds = self.model.predict_generator(self.data_generator, verbose=0)\n",
    "            \n",
    "        return preds\n",
    "    \n",
    "    def predict_on_string(self, text, max_output_length=100):\n",
    "        \n",
    "        max_seq_length = len(text) + max_output_length\n",
    "\n",
    "        \n",
    "        data_gen_pars = {'batch_size': 1,\n",
    "            \"max_encoder_seq_length\": sequence_data['max_encoder_seq_length'],\n",
    "            \"max_decoder_seq_length\": sequence_data['max_decoder_seq_length'],\n",
    "            \"num_encoder_tokens\": sequence_data['num_encoder_tokens'],\n",
    "            \"num_decoder_tokens\": sequence_data['num_decoder_tokens'],\n",
    "            \"input_token_index\": sequence_data['input_token_index'],\n",
    "            \"target_token_index\": sequence_data['target_token_index'],\n",
    "            \"num_thinking_steps\": settings_dict[\"thinking_steps\"]\n",
    "                 }\n",
    "        \n",
    "        \n",
    "        self.data_generator = DataGeneratorAttention(input_texts=[text],\n",
    "                                               target_texts=['0'*max_output_length],\n",
    "                                               **data_gen_pars)\n",
    "        \n",
    "        outputs_true, outputs_preds = self.predict_without_teacher(1, max_seq_length)\n",
    "        \n",
    "        return outputs_preds[0].strip()\n",
    "\n",
    "    def predict_without_teacher(self, n_samples, max_seq_length, random=True):\n",
    "        \n",
    "        encoded_texts = [] \n",
    "        outputs_true = []\n",
    "        \n",
    "        if random:\n",
    "            samples = np.random.choice(self.data_generator.indexes, n_samples, replace=False)\n",
    "        else:\n",
    "            samples = list(range(n_samples))\n",
    "        for i in samples:\n",
    "            sample = self.data_generator._DataGeneratorAttention__data_generation([i])         \n",
    "            input_len = len(self.data_generator.input_texts[i])\n",
    "            outputs_true.append(self.data_generator.target_texts[i])\n",
    "            x = sample[0][0][:input_len+self.settings_dict[\"thinking_steps\"]+1]\n",
    "            encoded_texts.append(np.expand_dims(x, axis=0))\n",
    "            \n",
    "        outputs_preds = self.lstm.decode_sample(encoded_texts, self.token_index, max_seq_length)\n",
    "        return outputs_true, outputs_preds"
   ]
  },
  {
   "cell_type": "markdown",
   "metadata": {},
   "source": [
    "## Load datasets"
   ]
  },
  {
   "cell_type": "code",
   "execution_count": 9,
   "metadata": {},
   "outputs": [],
   "source": [
    "# job_ids = {1:'j4bu146wamlr9', 2: 'js0kldpwp1nhos', 3: 'jroi3ag4aros6'}"
   ]
  },
  {
   "cell_type": "code",
   "execution_count": 10,
   "metadata": {},
   "outputs": [],
   "source": [
    "job_ids = {1:'jsfd8uwubghbqg'}"
   ]
  },
  {
   "cell_type": "code",
   "execution_count": 11,
   "metadata": {},
   "outputs": [
    {
     "name": "stdout",
     "output_type": "stream",
     "text": [
      "1 jsfd8uwubghbqg\n"
     ]
    }
   ],
   "source": [
    "for key, value in job_ids.items():\n",
    "    print(key, value)"
   ]
  },
  {
   "cell_type": "code",
   "execution_count": 12,
   "metadata": {},
   "outputs": [],
   "source": [
    "model_path = Path('../../../../artifacts/'  + job_ids[1])\n",
    "settings_dict, input_texts, target_texts = get_data(model_path/'settings.json')"
   ]
  },
  {
   "cell_type": "code",
   "execution_count": 14,
   "metadata": {},
   "outputs": [
    {
     "data": {
      "text/plain": [
       "{'batch_size': 512,\n",
       " 'data_path': '/storage/git/deep-math/data/',\n",
       " 'embedding_dim': 256,\n",
       " 'epochs': 1,\n",
       " 'math_module': 'arithmetic',\n",
       " 'num_decoder_units': 2048,\n",
       " 'num_encoder_units': 512,\n",
       " 'save_path': '/artifacts/',\n",
       " 'thinking_steps': 16,\n",
       " 'train_level': '*'}"
      ]
     },
     "execution_count": 14,
     "metadata": {},
     "output_type": "execute_result"
    }
   ],
   "source": [
    "settings_dict"
   ]
  },
  {
   "cell_type": "code",
   "execution_count": 15,
   "metadata": {},
   "outputs": [
    {
     "data": {
      "text/plain": [
       "dict_keys(['target_token_index', 'target_texts', 'num_encoder_tokens', 'num_decoder_tokens', 'input_texts', 'max_encoder_seq_length', 'max_decoder_seq_length', 'input_token_index', 'num_thinking_steps'])"
      ]
     },
     "execution_count": 15,
     "metadata": {},
     "output_type": "execute_result"
    }
   ],
   "source": [
    "with open(str(model_path/'arithmetic-*.pkl'), 'rb') as file:\n",
    "    sequence_data = pickle.load(file)\n",
    "\n",
    "sequence_data.keys()"
   ]
  },
  {
   "cell_type": "markdown",
   "metadata": {},
   "source": [
    "## Evaluate datasets"
   ]
  },
  {
   "cell_type": "code",
   "execution_count": 21,
   "metadata": {},
   "outputs": [],
   "source": [
    "test_sample=1024"
   ]
  },
  {
   "cell_type": "code",
   "execution_count": 203,
   "metadata": {},
   "outputs": [
    {
     "name": "stderr",
     "output_type": "stream",
     "text": [
      "W0921 10:12:18.242913 140434413999872 tf_logging.py:161] <tensorflow.python.keras.layers.recurrent.UnifiedLSTM object at 0x7fb355c920b8>: Note that this layer is not optimized for performance. Please use tf.keras.layers.CuDNNLSTM for better performance on GPU.\n",
      "W0921 10:12:18.246821 140434413999872 tf_logging.py:161] <tensorflow.python.keras.layers.recurrent.UnifiedLSTM object at 0x7fb361229748>: Note that this layer is not optimized for performance. Please use tf.keras.layers.CuDNNLSTM for better performance on GPU.\n",
      "W0921 10:12:19.143254 140434413999872 tf_logging.py:161] <tensorflow.python.keras.layers.recurrent.UnifiedLSTM object at 0x7fb37764cf60>: Note that this layer is not optimized for performance. Please use tf.keras.layers.CuDNNLSTM for better performance on GPU.\n"
     ]
    }
   ],
   "source": [
    "lstm_eval = LSTMWithAttentionEvaluator(model_path)"
   ]
  },
  {
   "cell_type": "code",
   "execution_count": null,
   "metadata": {},
   "outputs": [],
   "source": []
  },
  {
   "cell_type": "code",
   "execution_count": 183,
   "metadata": {},
   "outputs": [],
   "source": [
    "range_sample = slice(0,10)"
   ]
  },
  {
   "cell_type": "code",
   "execution_count": 184,
   "metadata": {},
   "outputs": [
    {
     "data": {
      "text/plain": [
       "['((-9)/4 - ((-15)/(-84))/(17655/(-74151)))*((-18896)/(-84) + 0 - (-6)/(-21))',\n",
       " 'What is the value of 4*(-15)/(-10)*(-3 + (-15)/18*(-16)/10 - 8/(-48)) + 6 + -9?',\n",
       " '(578/(-680) - (0/(-3) + (-2)/(-5)))/(1 - 16 - 509504/(-34048))',\n",
       " 'Calculate ((28/(-21))/((-1)/4))/((-4)/3*(-22 - (21945/198)/(-5))).',\n",
       " 'What is 2792/(-29316)*(-3)/(-8) - (-18)/(-84) - (-2 - (-390)/16)/(-2*(-4)/(-48))?',\n",
       " 'Calculate 14*36/168*(4/((-72)/(-939)) - -3)/(9/6*((-2)/6 - 0)).',\n",
       " 'What is ((-41514)/(-55) + 10*(-259)/925)/(8/((-24)/9) + (1 + 0 - 0))?',\n",
       " 'Calculate (116/(-3))/(26319/(-175460) + (1 - (-347)/(-300))) - (4/46 + 0).',\n",
       " '((-3135)/190)/((-15)/7 - -3 - (1/10)/(7 - (5 - (-1694)/945)))',\n",
       " 'What is the value of (186 + -315 + 140 - ((-1204)/(-12))/((-1)/3)) + 1/(-1)*3*8/6?']"
      ]
     },
     "execution_count": 184,
     "metadata": {},
     "output_type": "execute_result"
    }
   ],
   "source": [
    "input_texts['extrapolate']['arithmetic__mixed_longer'][range_sample]"
   ]
  },
  {
   "cell_type": "code",
   "execution_count": 194,
   "metadata": {},
   "outputs": [],
   "source": [
    "preds = lstm_eval.return_prediction(input_texts['extrapolate']['arithmetic__mixed_longer'][range_sample], target_texts['extrapolate']['arithmetic__mixed_longer'][range_sample])"
   ]
  },
  {
   "cell_type": "code",
   "execution_count": 195,
   "metadata": {},
   "outputs": [],
   "source": [
    "import numpy as np"
   ]
  },
  {
   "cell_type": "code",
   "execution_count": 196,
   "metadata": {},
   "outputs": [],
   "source": [
    "itos = dict([(v, k) for k,v in sequence_data['target_token_index'].items()])"
   ]
  },
  {
   "cell_type": "code",
   "execution_count": 197,
   "metadata": {},
   "outputs": [
    {
     "data": {
      "text/plain": [
       "slice(0, 10, None)"
      ]
     },
     "execution_count": 197,
     "metadata": {},
     "output_type": "execute_result"
    }
   ],
   "source": [
    "range_sample"
   ]
  },
  {
   "cell_type": "code",
   "execution_count": 198,
   "metadata": {},
   "outputs": [
    {
     "data": {
      "text/plain": [
       "(10, 48, 30)"
      ]
     },
     "execution_count": 198,
     "metadata": {},
     "output_type": "execute_result"
    }
   ],
   "source": [
    "preds.shape"
   ]
  },
  {
   "cell_type": "code",
   "execution_count": 199,
   "metadata": {},
   "outputs": [
    {
     "name": "stdout",
     "output_type": "stream",
     "text": [
      "-13/\n",
      "-6/\n",
      "-88/////////////////////////////\n",
      "-17/\n",
      "-18\n",
      "1188\n",
      "-///////////////////////////////\n",
      "-186\n",
      "126\n",
      "-17\n"
     ]
    }
   ],
   "source": [
    "indices = range(range_sample.start, range_sample.stop)\n",
    "\n",
    "for i, _ in enumerate(indices):\n",
    "    print(\"\".join([itos[j] for j in np.argmax(preds[i,16:], axis=1)]).split('\\n')[0])"
   ]
  },
  {
   "cell_type": "code",
   "execution_count": 190,
   "metadata": {},
   "outputs": [
    {
     "data": {
      "text/plain": [
       "['\\t-337\\n',\n",
       " '\\t-12\\n',\n",
       " '\\t35\\n',\n",
       " '\\t-24\\n',\n",
       " '\\t134\\n',\n",
       " '\\t-331\\n',\n",
       " '\\t-376\\n',\n",
       " '\\t126\\n',\n",
       " '\\t-44\\n',\n",
       " '\\t308\\n']"
      ]
     },
     "execution_count": 190,
     "metadata": {},
     "output_type": "execute_result"
    }
   ],
   "source": [
    "target_texts['extrapolate']['arithmetic__mixed_longer'][range_sample]"
   ]
  },
  {
   "cell_type": "code",
   "execution_count": 166,
   "metadata": {},
   "outputs": [
    {
     "data": {
      "text/plain": [
       "['Calculate (-1)/3 + (91770/(-1380)*(-2)/57 - (-13)/(-1)) - (-57 + -200).',\n",
       " 'Evaluate 21/(-1953)*-31*(4 + 143) - ((-402)/67*4/(-3))/(1 + 3*-1).',\n",
       " 'Calculate ((-3)/(-7)*(-6)/(-9))/((-1)/7*-1*(1146/2928 - (2075/200 + -10))).',\n",
       " '(506/35)/((-3746)/(-28095)) + (-2 + 62/28)/((-18)/720*-15)',\n",
       " 'Calculate (108/(-60))/((-2)/(-5))*(-8 + (1 + 5 + 6 + (-66)/4)*12/27).',\n",
       " '(6 - (3 - (-12)/6)) + (0 - -10)/(15*(-5)/(-30))*51*(-4)/16',\n",
       " '((6/2)/1)/(1/6 + 17 + (-1696794)/99180 + (-6)/(-435)*-295 + 4)',\n",
       " '(((-40)/14)/5*(-1)/(20/14) - ((-28800)/(-540))/(125/440))/(2/3)',\n",
       " 'Evaluate ((-812)/28 - -24) + 9/270*6*(-495)/(-6)*(-36)/(-27).',\n",
       " 'What is (4/(-468)*-9 - ((-103499)/15132 - (-14)/2) - 1/6) + 2918/(-8)*1?']"
      ]
     },
     "execution_count": 166,
     "metadata": {},
     "output_type": "execute_result"
    }
   ],
   "source": [
    "input_texts['extrapolate']['arithmetic__mixed_longer'][range_sample]"
   ]
  },
  {
   "cell_type": "code",
   "execution_count": 200,
   "metadata": {},
   "outputs": [
    {
     "name": "stdout",
     "output_type": "stream",
     "text": [
      "10/10 [==============================] - 3s 301ms/step - loss: 2.0773 - exact_match_metric: 0.0000e+00\n"
     ]
    },
    {
     "data": {
      "text/plain": [
       "0.0"
      ]
     },
     "execution_count": 200,
     "metadata": {},
     "output_type": "execute_result"
    }
   ],
   "source": [
    "lstm_eval.evaluate_model(input_texts['extrapolate']['arithmetic__mixed_longer'][range_sample], target_texts['extrapolate']['arithmetic__mixed_longer'][range_sample])"
   ]
  },
  {
   "cell_type": "code",
   "execution_count": 18,
   "metadata": {},
   "outputs": [
    {
     "name": "stderr",
     "output_type": "stream",
     "text": [
      "W0921 10:14:45.764673 140531860117248 tf_logging.py:161] <tensorflow.python.keras.layers.recurrent.UnifiedLSTM object at 0x7fcbec1d9dd8>: Note that this layer is not optimized for performance. Please use tf.keras.layers.CuDNNLSTM for better performance on GPU.\n",
      "W0921 10:14:45.768177 140531860117248 tf_logging.py:161] <tensorflow.python.keras.layers.recurrent.UnifiedLSTM object at 0x7fcbec1f3240>: Note that this layer is not optimized for performance. Please use tf.keras.layers.CuDNNLSTM for better performance on GPU.\n",
      "W0921 10:14:50.042084 140531860117248 tf_logging.py:161] <tensorflow.python.keras.layers.recurrent.UnifiedLSTM object at 0x7fcbe94e8908>: Note that this layer is not optimized for performance. Please use tf.keras.layers.CuDNNLSTM for better performance on GPU.\n"
     ]
    },
    {
     "name": "stdout",
     "output_type": "stream",
     "text": [
      "EPOCH 1\n",
      "19/19 [==============================] - 32s 2s/step - loss: 0.5992 - exact_match_metric: 0.4062\n",
      "19/19 [==============================] - 31s 2s/step - loss: 3.7665 - exact_match_metric: 0.0107\n",
      "19/19 [==============================] - 31s 2s/step - loss: 2.0038 - exact_match_metric: 0.3914\n",
      "19/19 [==============================] - 31s 2s/step - loss: 0.7114 - exact_match_metric: 0.2369\n",
      "19/19 [==============================] - 31s 2s/step - loss: 0.8487 - exact_match_metric: 0.5917\n",
      "19/19 [==============================] - 31s 2s/step - loss: 0.4580 - exact_match_metric: 0.5604\n",
      "19/19 [==============================] - 31s 2s/step - loss: 1.1629 - exact_match_metric: 0.1299\n",
      "19/19 [==============================] - 31s 2s/step - loss: 0.3720 - exact_match_metric: 0.6763\n",
      "19/19 [==============================] - 31s 2s/step - loss: 0.4548 - exact_match_metric: 0.6896\n"
     ]
    },
    {
     "data": {
      "image/png": "[encoded data removed]",
      "text/plain": [
       "<Figure size 432x288 with 1 Axes>"
      ]
     },
     "metadata": {
      "needs_background": "light"
     },
     "output_type": "display_data"
    }
   ],
   "source": [
    "for epoch, job_id in job_ids.items():\n",
    "    model_path = Path('../../../../artifacts/'  + job_id)\n",
    "    lstm_eval = LSTMWithAttentionEvaluator(model_path)\n",
    "    print('EPOCH', epoch)\n",
    "    res, res_dm = evaluate_arithmetics_interpolate(lstm_eval, input_texts, target_texts)"
   ]
  },
  {
   "cell_type": "code",
   "execution_count": 20,
   "metadata": {},
   "outputs": [
    {
     "name": "stderr",
     "output_type": "stream",
     "text": [
      "W0921 10:21:39.448930 140531860117248 tf_logging.py:161] <tensorflow.python.keras.layers.recurrent.UnifiedLSTM object at 0x7fcb017a7518>: Note that this layer is not optimized for performance. Please use tf.keras.layers.CuDNNLSTM for better performance on GPU.\n",
      "W0921 10:21:39.452140 140531860117248 tf_logging.py:161] <tensorflow.python.keras.layers.recurrent.UnifiedLSTM object at 0x7fcb017b3518>: Note that this layer is not optimized for performance. Please use tf.keras.layers.CuDNNLSTM for better performance on GPU.\n",
      "W0921 10:21:40.867962 140531860117248 tf_logging.py:161] <tensorflow.python.keras.layers.recurrent.UnifiedLSTM object at 0x7fcaff26df28>: Note that this layer is not optimized for performance. Please use tf.keras.layers.CuDNNLSTM for better performance on GPU.\n"
     ]
    },
    {
     "name": "stdout",
     "output_type": "stream",
     "text": [
      "EPOCH 1\n",
      "19/19 [==============================] - 36s 2s/step - loss: 2.1095 - exact_match_metric: 0.0043\n",
      "19/19 [==============================] - 31s 2s/step - loss: 1.7000 - exact_match_metric: 0.0455\n",
      "19/19 [==============================] - 31s 2s/step - loss: 1.8211 - exact_match_metric: 0.0557\n",
      "19/19 [==============================] - 31s 2s/step - loss: 4.3193 - exact_match_metric: 0.2311\n",
      "19/19 [==============================] - 31s 2s/step - loss: 1.2828 - exact_match_metric: 0.4660\n",
      "19/19 [==============================] - 31s 2s/step - loss: 1.8079 - exact_match_metric: 0.4275\n"
     ]
    },
    {
     "data": {
      "image/png": "[encoded data removed]",
      "text/plain": [
       "<Figure size 432x288 with 1 Axes>"
      ]
     },
     "metadata": {
      "needs_background": "light"
     },
     "output_type": "display_data"
    }
   ],
   "source": [
    "for epoch, job_id in job_ids.items():\n",
    "    model_path = Path('../../../../artifacts/'  + job_id)\n",
    "    lstm_eval = LSTMWithAttentionEvaluator(model_path)\n",
    "    print('EPOCH', epoch)\n",
    "    res, res_dm = evaluate_arithmetics_extrapolate(lstm_eval, input_texts, target_texts)"
   ]
  },
  {
   "cell_type": "code",
   "execution_count": null,
   "metadata": {},
   "outputs": [],
   "source": []
  }
 ],
 "metadata": {
  "kernelspec": {
   "display_name": "Python 3",
   "language": "python",
   "name": "python3"
  },
  "language_info": {
   "codemirror_mode": {
    "name": "ipython",
    "version": 3
   },
   "file_extension": ".py",
   "mimetype": "text/x-python",
   "name": "python",
   "nbconvert_exporter": "python",
   "pygments_lexer": "ipython3",
   "version": "3.5.2"
  }
 },
 "nbformat": 4,
 "nbformat_minor": 2
}
