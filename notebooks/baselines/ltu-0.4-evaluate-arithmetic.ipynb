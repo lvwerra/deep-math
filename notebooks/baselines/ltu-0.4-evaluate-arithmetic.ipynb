{
 "cells": [
  {
   "cell_type": "markdown",
   "metadata": {},
   "source": [
    "## Load dependencies"
   ]
  },
  {
   "cell_type": "code",
   "execution_count": 1,
   "metadata": {},
   "outputs": [],
   "source": [
    "%load_ext autoreload\n",
    "%autoreload 2\n",
    "%matplotlib inline"
   ]
  },
  {
   "cell_type": "code",
   "execution_count": 19,
   "metadata": {},
   "outputs": [
    {
     "name": "stdout",
     "output_type": "stream",
     "text": [
      "2.0.0-alpha0\n",
      "GPU Available:  True\n"
     ]
    }
   ],
   "source": [
    "import os\n",
    "import pandas as pd\n",
    "import numpy as np\n",
    "from pathlib import Path\n",
    "import glob\n",
    "import pickle\n",
    "import json\n",
    "import matplotlib.pyplot as plt\n",
    "from lstm import LSTM_Simple\n",
    "from metrics import exact_match_metric, exact_match_metric_index\n",
    "from callbacks import NValidationSetsCallback, GradientLogger\n",
    "from tqdm import tqdm\n",
    "from evaluate_lstm import LSTM_Evaluator\n",
    "\n",
    "import sys\n",
    "sys.path.append('../../')\n",
    "from src.models.attention import LSTMWithAttention\n",
    "from src.models.generator import DataGenerator, DataGeneratorAttention\n",
    "\n",
    "from sklearn.model_selection import train_test_split\n",
    "import tensorflow as tf\n",
    "from tensorflow.keras.optimizers import Adam\n",
    "print(tf.__version__)\n",
    "print(\"GPU Available: \", tf.test.is_gpu_available())"
   ]
  },
  {
   "cell_type": "markdown",
   "metadata": {},
   "source": [
    "## Helper Function"
   ]
  },
  {
   "cell_type": "code",
   "execution_count": 3,
   "metadata": {},
   "outputs": [],
   "source": [
    "def plot_two_results(result_1, result_2=None, experiments=['L&L'], title=''):\n",
    "    labels = []\n",
    "    array_1 = []\n",
    "    array_2 = []\n",
    "    \n",
    "    for module in result_1:\n",
    "        labels.append(module.split('__')[1])\n",
    "        array_1.append(result_1[module])\n",
    "\n",
    "    if result_2 is not None:\n",
    "        for module in result_1:\n",
    "            array_2.append(result_2[module])\n",
    "\n",
    "    x = np.arange(len(labels))  # the label locations\n",
    "    width = 0.35  # the width of the bars\n",
    "\n",
    "    fig, ax = plt.subplots()\n",
    "    if result_2 is not None:\n",
    "        rects1 = ax.bar(x - width/2, array_1, width, label=experiments[0])\n",
    "        rects2 = ax.bar(x + width/2, array_2, width, label=experiments[1])\n",
    "    else:\n",
    "        rects1 = ax.bar(x, array_1, width, label=experiments[0])\n",
    "\n",
    "\n",
    "    # Add some text for labels, title and custom x-axis tick labels, etc.\n",
    "    ax.set_ylabel('Scores')\n",
    "    ax.set_title('Evaluation scores: ' + title)\n",
    "    ax.set_xticks(x)\n",
    "    ax.set_xticklabels(labels, rotation=30, ha=\"right\")\n",
    "    ax.legend()\n",
    "\n",
    "\n",
    "    def autolabel(rects):\n",
    "        \"\"\"Attach a text label above each bar in *rects*, displaying its height.\"\"\"\n",
    "        for rect in rects:\n",
    "            height = rect.get_height()\n",
    "            ax.annotate('{0:.2f}'.format(height),\n",
    "                        xy=(rect.get_x() + rect.get_width() / 2, height),\n",
    "                        xytext=(0, 3),  # 3 points vertical offset\n",
    "                        textcoords=\"offset points\",\n",
    "                        ha='center', va='bottom')\n",
    "\n",
    "\n",
    "    if result_2 is not None:\n",
    "        autolabel(rects2)\n",
    "\n",
    "    autolabel(rects1)\n",
    "\n",
    "    fig.tight_layout()\n",
    "    plt.ylim([0, 1.1])\n",
    "    plt.legend(loc='lower right')\n",
    "    plt.show()"
   ]
  },
  {
   "cell_type": "code",
   "execution_count": 4,
   "metadata": {},
   "outputs": [],
   "source": [
    "def concatenate_texts_individual(path, pattern):\n",
    "    file_paths = list(path.glob('{}*.txt'.format(pattern)))\n",
    "    \n",
    "    input_texts = {}\n",
    "    target_texts = {}\n",
    "\n",
    "    for file_path in file_paths:\n",
    "        if file_path.stem not in input_texts:\n",
    "            input_texts[file_path.stem] = []\n",
    "            target_texts[file_path.stem] = []\n",
    "        \n",
    "        with open(str(file_path), 'r', encoding='utf-8') as f:\n",
    "            lines = f.read().split('\\n')[:-1]\n",
    "\n",
    "        input_texts[file_path.stem].extend(lines[0::2])\n",
    "        target_texts[file_path.stem].extend(['\\t' + target_text + '\\n' for target_text in lines[1::2]])\n",
    "        \n",
    "    return input_texts, target_texts"
   ]
  },
  {
   "cell_type": "code",
   "execution_count": 30,
   "metadata": {},
   "outputs": [],
   "source": [
    "def get_data(settings_path):\n",
    "    with open(str(settings_path), 'r') as file:\n",
    "        settings_dict = json.load(file)\n",
    "\n",
    "    raw_path = Path(settings_dict['data_path'])/'raw/v1.0/'\n",
    "    interpolate_path = raw_path/'interpolate'\n",
    "    extrapolate_path = raw_path/'extrapolate'\n",
    "    train_easy_path = raw_path/'train-easy/'\n",
    "    \n",
    "    \n",
    "    math_module = settings_dict[\"math_module\"]\n",
    "    train_level = settings_dict[\"train_level\"]\n",
    "\n",
    "    datasets = {\n",
    "        'train':(raw_path, 'train-' + train_level + '/' + math_module),\n",
    "        'interpolate':(interpolate_path, math_module),\n",
    "        'extrapolate':(extrapolate_path, math_module)\n",
    "               }\n",
    "\n",
    "    input_texts = {}\n",
    "    target_texts = {}\n",
    "\n",
    "    for k, v in datasets.items():\n",
    "        input_texts[k], target_texts[k] = concatenate_texts_individual(v[0], v[1])\n",
    "    \n",
    "    return settings_dict, input_texts, target_texts"
   ]
  },
  {
   "cell_type": "code",
   "execution_count": 38,
   "metadata": {},
   "outputs": [],
   "source": [
    "def evaluate_arithmetics_interpolate(lstm_eval, input_texts, target_texts, print_res=False):\n",
    "    test_set = 'interpolate'\n",
    "    results = {}\n",
    "\n",
    "    results_deepmind = {'arithmetic__add_or_sub': 0.875,\n",
    "                        'arithmetic__add_or_sub_in_base': 0.925,\n",
    "                        'arithmetic__add_sub_multiple': .89,\n",
    "                        'arithmetic__mul_div_multiple': .91,\n",
    "                        'arithmetic__nearest_integer_root': .9,\n",
    "                        'arithmetic__mul': 0.55,\n",
    "                        'arithmetic__div': 0.82,\n",
    "                        'arithmetic__simplify_surd':0.08,\n",
    "                        'arithmetic__mixed': 0.4}\n",
    "\n",
    "    for module in input_texts[test_set]:\n",
    "        metric = lstm_eval.evaluate_model(input_texts[test_set][module], target_texts[test_set][module])\n",
    "        if print_res:\n",
    "            print(test_set, module)\n",
    "            print('metric:', metric, '\\n')        \n",
    "        results[module] = metric\n",
    "\n",
    "    plot_two_results(results, results_deepmind, experiments=['L&L', 'DM'], title='interpolation')\n",
    "    \n",
    "    return results, results_deepmind"
   ]
  },
  {
   "cell_type": "code",
   "execution_count": 40,
   "metadata": {},
   "outputs": [],
   "source": [
    "def evaluate_arithmetics_extrapolate(lstm_eval, input_texts, target_texts, print_res=False):\n",
    "    test_set = 'extrapolate'\n",
    "    results = {}\n",
    "\n",
    "    results_deepmind = {'arithmetic__add_or_sub_big': 0.82,\n",
    "                        'arithmetic__add_sub_multiple_longer': 0.22,\n",
    "                        'arithmetic__mul_big': .31,\n",
    "                        'arithmetic__mixed_longer': 0.02,\n",
    "                        'arithmetic__mul_div_multiple_longer': 0.34,\n",
    "                        'arithmetic__div_big':0.64}\n",
    "\n",
    "    for module in input_texts[test_set]:\n",
    "        \n",
    "        metric = lstm_eval.evaluate_model(input_texts[test_set][module], target_texts[test_set][module])\n",
    "        if print_res:\n",
    "            print(test_set, module)\n",
    "            print('metric:', metric, '\\n')\n",
    "        results[module] = metric\n",
    "\n",
    "    plot_two_results(results, results_deepmind, experiments=['L&L', 'DM'], title='extrapolation')\n",
    "    return results, results_deepmind"
   ]
  },
  {
   "cell_type": "code",
   "execution_count": 8,
   "metadata": {},
   "outputs": [],
   "source": [
    "class LSTMWithAttentionEvaluator:\n",
    "    \n",
    "    def __init__(self, path):\n",
    "        \n",
    "        with open(str(path/'settings.json'), 'r') as file:\n",
    "            self.settings_dict = json.load(file)\n",
    "\n",
    "        with open(str(path/'arithmetic-*.pkl'), 'rb') as file:\n",
    "            self.sequence_data = pickle.load(file) \n",
    "            self.token_index = self.sequence_data['input_token_index']\n",
    "\n",
    "        self.num_tokens = len(self.token_index)\n",
    "        \n",
    "        adam = Adam(lr=6e-4, beta_1=0.9, beta_2=0.995, epsilon=1e-9, decay=0.0, amsgrad=False, clipnorm=0.1)\n",
    "        self.lstm = LSTMWithAttention(sequence_data['num_encoder_tokens'], \n",
    "                         sequence_data['num_decoder_tokens'], \n",
    "                         sequence_data['max_encoder_seq_length'],\n",
    "                        sequence_data['max_decoder_seq_length'],\n",
    "                        settings_dict['num_encoder_units'],\n",
    "                        settings_dict['num_decoder_units'],\n",
    "                        settings_dict['embedding_dim'])\n",
    "        self.model = self.lstm.get_model()\n",
    "        self.model.load_weights(str(path/'model.h5'))\n",
    "        self.model.compile(optimizer=adam, loss='categorical_crossentropy', metrics=[exact_match_metric_index])\n",
    "        \n",
    "    def evaluate_model(self, input_texts, output_texts, teacher_forcing=True, batch_size=128, n_samples=1000):\n",
    "        max_seq_length  = max([len(txt_in)+len(txt_out) for txt_in, txt_out in zip(input_texts,output_texts)])\n",
    "        \n",
    "        data_gen_pars = {\n",
    "            \"batch_size\": settings_dict[\"batch_size\"],\n",
    "            \"max_encoder_seq_length\": sequence_data['max_encoder_seq_length'],\n",
    "            \"max_decoder_seq_length\": sequence_data['max_decoder_seq_length'],\n",
    "            \"num_encoder_tokens\": sequence_data['num_encoder_tokens'],\n",
    "            \"num_decoder_tokens\": sequence_data['num_decoder_tokens'],\n",
    "            \"input_token_index\": sequence_data['input_token_index'],\n",
    "            \"target_token_index\": sequence_data['target_token_index'],\n",
    "            \"num_thinking_steps\": settings_dict[\"thinking_steps\"],\n",
    "        }\n",
    "        \n",
    "        self.data_generator = DataGeneratorAttention(input_texts=input_texts,\n",
    "                                               target_texts=output_texts,\n",
    "                                               **data_gen_pars)\n",
    "        \n",
    "        if not teacher_forcing:\n",
    "            outputs_true, outputs_preds = self.predict_without_teacher(n_samples, max_seq_length)\n",
    "            exact_match = len([0 for out_true, out_preds in zip(outputs_true, outputs_preds) if out_true.strip()==out_preds.strip()])/len(outputs_true)\n",
    "        \n",
    "        else:\n",
    "            result = self.model.evaluate_generator(self.data_generator, verbose=1)\n",
    "            exact_match = result[1]\n",
    "            \n",
    "        return exact_match\n",
    "    \n",
    "    def predict_on_string(self, text, max_output_length=100):\n",
    "        \n",
    "        max_seq_length = len(text) + max_output_length\n",
    "\n",
    "        \n",
    "        params = {'batch_size': 1,\n",
    "                  'max_seq_length': max_seq_length,\n",
    "                  'num_tokens': self.num_tokens,\n",
    "                  'token_index': self.token_index,\n",
    "                  'num_thinking_steps': self.settings_dict[\"thinking_steps\"]\n",
    "                 }\n",
    "        \n",
    "        \n",
    "        self.data_generator = DataGeneratorSeq(input_texts=[text],\n",
    "                                               target_texts=['0'*max_output_length],\n",
    "                                               **params)\n",
    "        \n",
    "        outputs_true, outputs_preds = self.predict_without_teacher(1, max_seq_length)\n",
    "        \n",
    "        return outputs_preds[0].strip()\n",
    "\n",
    "    def predict_without_teacher(self, n_samples, max_seq_length, random=True):\n",
    "        \n",
    "        encoded_texts = [] \n",
    "        outputs_true = []\n",
    "        if random:\n",
    "            samples = np.random.choice(self.data_generator.indexes, n_samples, replace=False)\n",
    "        else:\n",
    "            samples = list(range(n_samples))\n",
    "        for i in samples:\n",
    "            input_len = len(input_texts_train[i])\n",
    "            sample = self.data_generator._DataGeneratorSeq__data_generation([i])         \n",
    "            input_len = len(self.data_generator.input_texts[i])\n",
    "            outputs_true.append(self.data_generator.target_texts[i])\n",
    "            x = sample[0][0][:input_len+self.settings_dict[\"thinking_steps\"]+1]\n",
    "            encoded_texts.append(np.expand_dims(x, axis=0))\n",
    "            \n",
    "        outputs_preds = self.lstm.decode_sample(encoded_texts, self.token_index, max_seq_length)\n",
    "        return outputs_true, outputs_preds"
   ]
  },
  {
   "cell_type": "markdown",
   "metadata": {},
   "source": [
    "## Load datasets"
   ]
  },
  {
   "cell_type": "code",
   "execution_count": 9,
   "metadata": {},
   "outputs": [],
   "source": [
    "# job_ids = {1:'j4bu146wamlr9', 2: 'js0kldpwp1nhos', 3: 'jroi3ag4aros6'}"
   ]
  },
  {
   "cell_type": "code",
   "execution_count": 10,
   "metadata": {},
   "outputs": [],
   "source": [
    "job_ids = {1:'jsfd8uwubghbqg'}"
   ]
  },
  {
   "cell_type": "code",
   "execution_count": 11,
   "metadata": {},
   "outputs": [
    {
     "name": "stdout",
     "output_type": "stream",
     "text": [
      "1 jsfd8uwubghbqg\n"
     ]
    }
   ],
   "source": [
    "for key, value in job_ids.items():\n",
    "    print(key, value)"
   ]
  },
  {
   "cell_type": "code",
   "execution_count": 31,
   "metadata": {},
   "outputs": [],
   "source": [
    "model_path = Path('../../../../storage/artifacts/'  + job_ids[1])\n",
    "settings_dict, input_texts, target_texts = get_data(model_path/'settings.json')"
   ]
  },
  {
   "cell_type": "code",
   "execution_count": 29,
   "metadata": {},
   "outputs": [
    {
     "data": {
      "text/plain": [
       "{'batch_size': 512,\n",
       " 'data_path': '/storage/git/deep-math/data/',\n",
       " 'embedding_dim': 256,\n",
       " 'epochs': 1,\n",
       " 'math_module': 'arithmetic',\n",
       " 'num_decoder_units': 2048,\n",
       " 'num_encoder_units': 512,\n",
       " 'save_path': '/artifacts/',\n",
       " 'thinking_steps': 16,\n",
       " 'train_level': '*'}"
      ]
     },
     "execution_count": 29,
     "metadata": {},
     "output_type": "execute_result"
    }
   ],
   "source": [
    "settings_dict"
   ]
  },
  {
   "cell_type": "code",
   "execution_count": 14,
   "metadata": {},
   "outputs": [
    {
     "data": {
      "text/plain": [
       "dict_keys(['num_thinking_steps', 'target_texts', 'input_token_index', 'num_decoder_tokens', 'target_token_index', 'num_encoder_tokens', 'max_decoder_seq_length', 'max_encoder_seq_length', 'input_texts'])"
      ]
     },
     "execution_count": 14,
     "metadata": {},
     "output_type": "execute_result"
    }
   ],
   "source": [
    "with open(str(model_path/'arithmetic-*.pkl'), 'rb') as file:\n",
    "    sequence_data = pickle.load(file)\n",
    "\n",
    "sequence_data.keys()"
   ]
  },
  {
   "cell_type": "markdown",
   "metadata": {},
   "source": [
    "## Evaluate datasets"
   ]
  },
  {
   "cell_type": "code",
   "execution_count": 15,
   "metadata": {},
   "outputs": [],
   "source": [
    "test_sample=1024"
   ]
  },
  {
   "cell_type": "code",
   "execution_count": 33,
   "metadata": {},
   "outputs": [
    {
     "name": "stderr",
     "output_type": "stream",
     "text": [
      "W0823 14:12:40.810776 139814115399424 tf_logging.py:161] <tensorflow.python.keras.layers.recurrent.UnifiedLSTM object at 0x7f23e0deeac8>: Note that this layer is not optimized for performance. Please use tf.keras.layers.CuDNNLSTM for better performance on GPU.\n",
      "W0823 14:12:40.814083 139814115399424 tf_logging.py:161] <tensorflow.python.keras.layers.recurrent.UnifiedLSTM object at 0x7f23e0df1a20>: Note that this layer is not optimized for performance. Please use tf.keras.layers.CuDNNLSTM for better performance on GPU.\n",
      "W0823 14:12:47.005181 139814115399424 tf_logging.py:161] <tensorflow.python.keras.layers.recurrent.UnifiedLSTM object at 0x7f275aca1e10>: Note that this layer is not optimized for performance. Please use tf.keras.layers.CuDNNLSTM for better performance on GPU.\n"
     ]
    }
   ],
   "source": [
    "lstm_eval = LSTMWithAttentionEvaluator(model_path)"
   ]
  },
  {
   "cell_type": "code",
   "execution_count": 20,
   "metadata": {},
   "outputs": [
    {
     "name": "stdout",
     "output_type": "stream",
     "text": [
      "2/2 [==============================] - 5s 2s/step - loss: 1.6555 - exact_match_metric_index: 0.6124\n"
     ]
    },
    {
     "data": {
      "text/plain": [
       "0.6124437"
      ]
     },
     "execution_count": 20,
     "metadata": {},
     "output_type": "execute_result"
    }
   ],
   "source": [
    "lstm_eval.evaluate_model(sequence_data['input_texts']['train'][:test_sample], sequence_data['target_texts']['train'][:test_sample])"
   ]
  },
  {
   "cell_type": "code",
   "execution_count": 39,
   "metadata": {},
   "outputs": [
    {
     "name": "stderr",
     "output_type": "stream",
     "text": [
      "W0823 14:57:43.050450 139814115399424 tf_logging.py:161] <tensorflow.python.keras.layers.recurrent.UnifiedLSTM object at 0x7f253bd69860>: Note that this layer is not optimized for performance. Please use tf.keras.layers.CuDNNLSTM for better performance on GPU.\n",
      "W0823 14:57:43.054070 139814115399424 tf_logging.py:161] <tensorflow.python.keras.layers.recurrent.UnifiedLSTM object at 0x7f253bd72860>: Note that this layer is not optimized for performance. Please use tf.keras.layers.CuDNNLSTM for better performance on GPU.\n",
      "W0823 14:57:48.330896 139814115399424 tf_logging.py:161] <tensorflow.python.keras.layers.recurrent.UnifiedLSTM object at 0x7f245a898dd8>: Note that this layer is not optimized for performance. Please use tf.keras.layers.CuDNNLSTM for better performance on GPU.\n"
     ]
    },
    {
     "name": "stdout",
     "output_type": "stream",
     "text": [
      "EPOCH 1\n",
      "19/19 [==============================] - 32s 2s/step - loss: 1.1632 - exact_match_metric_index: 0.8636\n",
      "19/19 [==============================] - 31s 2s/step - loss: 3.7713 - exact_match_metric_index: 0.5401\n",
      "19/19 [==============================] - 31s 2s/step - loss: 0.7103 - exact_match_metric_index: 0.8923\n",
      "19/19 [==============================] - 31s 2s/step - loss: 0.4580 - exact_match_metric_index: 0.7132\n",
      "19/19 [==============================] - 31s 2s/step - loss: 0.8481 - exact_match_metric_index: 0.7944\n",
      "19/19 [==============================] - 31s 2s/step - loss: 0.5994 - exact_match_metric_index: 0.8636\n",
      "19/19 [==============================] - 31s 2s/step - loss: 0.3732 - exact_match_metric_index: 0.8144\n",
      "19/19 [==============================] - 31s 2s/step - loss: 0.4571 - exact_match_metric_index: 0.8840\n",
      "19/19 [==============================] - 31s 2s/step - loss: 2.0051 - exact_match_metric_index: 0.7543\n"
     ]
    },
    {
     "data": {
      "image/png": "[encoded data removed]",
      "text/plain": [
       "<Figure size 432x288 with 1 Axes>"
      ]
     },
     "metadata": {
      "needs_background": "light"
     },
     "output_type": "display_data"
    }
   ],
   "source": [
    "for epoch, job_id in job_ids.items():\n",
    "    model_path = Path('../../../../storage/artifacts/'  + job_id)\n",
    "    lstm_eval = LSTMWithAttentionEvaluator(model_path)\n",
    "    print('EPOCH', epoch)\n",
    "    res, res_dm = evaluate_arithmetics_interpolate(lstm_eval, input_texts, target_texts)"
   ]
  },
  {
   "cell_type": "code",
   "execution_count": 41,
   "metadata": {},
   "outputs": [
    {
     "name": "stderr",
     "output_type": "stream",
     "text": [
      "W0823 15:02:56.510111 139814115399424 tf_logging.py:161] <tensorflow.python.keras.layers.recurrent.UnifiedLSTM object at 0x7f23d0e0bb38>: Note that this layer is not optimized for performance. Please use tf.keras.layers.CuDNNLSTM for better performance on GPU.\n",
      "W0823 15:02:56.513278 139814115399424 tf_logging.py:161] <tensorflow.python.keras.layers.recurrent.UnifiedLSTM object at 0x7f23d0e11ac8>: Note that this layer is not optimized for performance. Please use tf.keras.layers.CuDNNLSTM for better performance on GPU.\n",
      "W0823 15:03:01.182667 139814115399424 tf_logging.py:161] <tensorflow.python.keras.layers.recurrent.UnifiedLSTM object at 0x7f24585c72e8>: Note that this layer is not optimized for performance. Please use tf.keras.layers.CuDNNLSTM for better performance on GPU.\n"
     ]
    },
    {
     "name": "stdout",
     "output_type": "stream",
     "text": [
      "EPOCH 1\n",
      "19/19 [==============================] - 32s 2s/step - loss: 1.8192 - exact_match_metric_index: 0.8706\n",
      "19/19 [==============================] - 31s 2s/step - loss: 1.6970 - exact_match_metric_index: 0.8708\n",
      "19/19 [==============================] - 31s 2s/step - loss: 1.2871 - exact_match_metric_index: 0.6665\n",
      "19/19 [==============================] - 31s 2s/step - loss: 2.1086 - exact_match_metric_index: 0.8712\n",
      "19/19 [==============================] - 31s 2s/step - loss: 4.3313 - exact_match_metric_index: 0.7122\n",
      "19/19 [==============================] - 31s 2s/step - loss: 1.8020 - exact_match_metric_index: 0.7612\n"
     ]
    },
    {
     "data": {
      "image/png": "[encoded data removed]",
      "text/plain": [
       "<Figure size 432x288 with 1 Axes>"
      ]
     },
     "metadata": {
      "needs_background": "light"
     },
     "output_type": "display_data"
    }
   ],
   "source": [
    "for epoch, job_id in job_ids.items():\n",
    "    model_path = Path('../../../../storage/artifacts/'  + job_id)\n",
    "    lstm_eval = LSTMWithAttentionEvaluator(model_path)\n",
    "    print('EPOCH', epoch)\n",
    "    res, res_dm = evaluate_arithmetics_extrapolate(lstm_eval, input_texts, target_texts)"
   ]
  },
  {
   "cell_type": "markdown",
   "metadata": {},
   "source": [
    "## We can also test an indiviual string:"
   ]
  },
  {
   "cell_type": "code",
   "execution_count": 37,
   "metadata": {},
   "outputs": [
    {
     "ename": "NameError",
     "evalue": "name 'input_texts_train' is not defined",
     "output_type": "error",
     "traceback": [
      "\u001b[0;31m---------------------------------------------------------------------------\u001b[0m",
      "\u001b[0;31mNameError\u001b[0m                                 Traceback (most recent call last)",
      "\u001b[0;32m<ipython-input-37-7390a8972fbe>\u001b[0m in \u001b[0;36m<module>\u001b[0;34m\u001b[0m\n\u001b[0;32m----> 1\u001b[0;31m \u001b[0mlstm_eval\u001b[0m\u001b[0;34m.\u001b[0m\u001b[0mpredict_on_string\u001b[0m\u001b[0;34m(\u001b[0m\u001b[0;34m'1 / 7'\u001b[0m\u001b[0;34m)\u001b[0m\u001b[0;34m\u001b[0m\u001b[0m\n\u001b[0m",
      "\u001b[0;32m<ipython-input-8-f80ae4141fe3>\u001b[0m in \u001b[0;36mpredict_on_string\u001b[0;34m(self, text, max_output_length)\u001b[0m\n\u001b[1;32m     69\u001b[0m                                                **params)\n\u001b[1;32m     70\u001b[0m \u001b[0;34m\u001b[0m\u001b[0m\n\u001b[0;32m---> 71\u001b[0;31m         \u001b[0moutputs_true\u001b[0m\u001b[0;34m,\u001b[0m \u001b[0moutputs_preds\u001b[0m \u001b[0;34m=\u001b[0m \u001b[0mself\u001b[0m\u001b[0;34m.\u001b[0m\u001b[0mpredict_without_teacher\u001b[0m\u001b[0;34m(\u001b[0m\u001b[0;36m1\u001b[0m\u001b[0;34m,\u001b[0m \u001b[0mmax_seq_length\u001b[0m\u001b[0;34m)\u001b[0m\u001b[0;34m\u001b[0m\u001b[0m\n\u001b[0m\u001b[1;32m     72\u001b[0m \u001b[0;34m\u001b[0m\u001b[0m\n\u001b[1;32m     73\u001b[0m         \u001b[0;32mreturn\u001b[0m \u001b[0moutputs_preds\u001b[0m\u001b[0;34m[\u001b[0m\u001b[0;36m0\u001b[0m\u001b[0;34m]\u001b[0m\u001b[0;34m.\u001b[0m\u001b[0mstrip\u001b[0m\u001b[0;34m(\u001b[0m\u001b[0;34m)\u001b[0m\u001b[0;34m\u001b[0m\u001b[0m\n",
      "\u001b[0;32m<ipython-input-8-f80ae4141fe3>\u001b[0m in \u001b[0;36mpredict_without_teacher\u001b[0;34m(self, n_samples, max_seq_length, random)\u001b[0m\n\u001b[1;32m     82\u001b[0m             \u001b[0msamples\u001b[0m \u001b[0;34m=\u001b[0m \u001b[0mlist\u001b[0m\u001b[0;34m(\u001b[0m\u001b[0mrange\u001b[0m\u001b[0;34m(\u001b[0m\u001b[0mn_samples\u001b[0m\u001b[0;34m)\u001b[0m\u001b[0;34m)\u001b[0m\u001b[0;34m\u001b[0m\u001b[0m\n\u001b[1;32m     83\u001b[0m         \u001b[0;32mfor\u001b[0m \u001b[0mi\u001b[0m \u001b[0;32min\u001b[0m \u001b[0msamples\u001b[0m\u001b[0;34m:\u001b[0m\u001b[0;34m\u001b[0m\u001b[0m\n\u001b[0;32m---> 84\u001b[0;31m             \u001b[0minput_len\u001b[0m \u001b[0;34m=\u001b[0m \u001b[0mlen\u001b[0m\u001b[0;34m(\u001b[0m\u001b[0minput_texts_train\u001b[0m\u001b[0;34m[\u001b[0m\u001b[0mi\u001b[0m\u001b[0;34m]\u001b[0m\u001b[0;34m)\u001b[0m\u001b[0;34m\u001b[0m\u001b[0m\n\u001b[0m\u001b[1;32m     85\u001b[0m             \u001b[0msample\u001b[0m \u001b[0;34m=\u001b[0m \u001b[0mself\u001b[0m\u001b[0;34m.\u001b[0m\u001b[0mdata_generator\u001b[0m\u001b[0;34m.\u001b[0m\u001b[0m_DataGeneratorSeq__data_generation\u001b[0m\u001b[0;34m(\u001b[0m\u001b[0;34m[\u001b[0m\u001b[0mi\u001b[0m\u001b[0;34m]\u001b[0m\u001b[0;34m)\u001b[0m\u001b[0;34m\u001b[0m\u001b[0m\n\u001b[1;32m     86\u001b[0m             \u001b[0minput_len\u001b[0m \u001b[0;34m=\u001b[0m \u001b[0mlen\u001b[0m\u001b[0;34m(\u001b[0m\u001b[0mself\u001b[0m\u001b[0;34m.\u001b[0m\u001b[0mdata_generator\u001b[0m\u001b[0;34m.\u001b[0m\u001b[0minput_texts\u001b[0m\u001b[0;34m[\u001b[0m\u001b[0mi\u001b[0m\u001b[0;34m]\u001b[0m\u001b[0;34m)\u001b[0m\u001b[0;34m\u001b[0m\u001b[0m\n",
      "\u001b[0;31mNameError\u001b[0m: name 'input_texts_train' is not defined"
     ]
    }
   ],
   "source": [
    "lstm_eval.predict_on_string('1 / 7')"
   ]
  },
  {
   "cell_type": "code",
   "execution_count": 52,
   "metadata": {},
   "outputs": [
    {
     "data": {
      "text/plain": [
       "''"
      ]
     },
     "execution_count": 52,
     "metadata": {},
     "output_type": "execute_result"
    }
   ],
   "source": [
    "lstm_eval.predict_on_string('2*2')"
   ]
  }
 ],
 "metadata": {
  "kernelspec": {
   "display_name": "Python 3",
   "language": "python",
   "name": "python3"
  },
  "language_info": {
   "codemirror_mode": {
    "name": "ipython",
    "version": 3
   },
   "file_extension": ".py",
   "mimetype": "text/x-python",
   "name": "python",
   "nbconvert_exporter": "python",
   "pygments_lexer": "ipython3",
   "version": "3.5.2"
  }
 },
 "nbformat": 4,
 "nbformat_minor": 2
}
