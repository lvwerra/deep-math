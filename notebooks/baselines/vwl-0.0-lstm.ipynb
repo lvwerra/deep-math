{
 "cells": [
  {
   "cell_type": "code",
   "execution_count": 1,
   "metadata": {},
   "outputs": [],
   "source": [
    "%load_ext autoreload\n",
    "%autoreload 2"
   ]
  },
  {
   "cell_type": "code",
   "execution_count": 2,
   "metadata": {},
   "outputs": [
    {
     "name": "stderr",
     "output_type": "stream",
     "text": [
      "/usr/local/lib/python3.5/dist-packages/h5py/__init__.py:36: FutureWarning: Conversion of the second argument of issubdtype from `float` to `np.floating` is deprecated. In future, it will be treated as `np.float64 == np.dtype(float).type`.\n",
      "  from ._conv import register_converters as _register_converters\n",
      "Using TensorFlow backend.\n"
     ]
    }
   ],
   "source": [
    "from __future__ import print_function\n",
    "\n",
    "from keras.models import Model\n",
    "from keras.layers import Input, LSTM, Dense\n",
    "from keras.optimizers import Adam\n",
    "import numpy as np\n",
    "import keras.backend as K\n",
    "from pathlib import Path\n",
    "import tensorflow as tf"
   ]
  },
  {
   "cell_type": "code",
   "execution_count": 3,
   "metadata": {},
   "outputs": [
    {
     "data": {
      "text/plain": [
       "['/job:localhost/replica:0/task:0/device:GPU:0']"
      ]
     },
     "execution_count": 3,
     "metadata": {},
     "output_type": "execute_result"
    }
   ],
   "source": [
    "K.tensorflow_backend._get_available_gpus()"
   ]
  },
  {
   "cell_type": "code",
   "execution_count": 4,
   "metadata": {},
   "outputs": [],
   "source": [
    "raw_path = Path('../../data/raw/')\n",
    "math_data = raw_path/'v1.0'"
   ]
  },
  {
   "cell_type": "code",
   "execution_count": 5,
   "metadata": {},
   "outputs": [
    {
     "name": "stdout",
     "output_type": "stream",
     "text": [
      "extrapolate  interpolate  train-easy  train-hard  train-medium\r\n"
     ]
    }
   ],
   "source": [
    "!ls '{math_data}'"
   ]
  },
  {
   "cell_type": "code",
   "execution_count": 6,
   "metadata": {},
   "outputs": [],
   "source": [
    "train_easy_data = math_data/'train-easy'\n",
    "train_easy_sample = train_easy_data/'algebra__linear_1d.txt'"
   ]
  },
  {
   "cell_type": "code",
   "execution_count": 7,
   "metadata": {},
   "outputs": [
    {
     "data": {
      "text/plain": [
       "56"
      ]
     },
     "execution_count": 7,
     "metadata": {},
     "output_type": "execute_result"
    }
   ],
   "source": [
    "datasets = !ls '{train_easy_data}'\n",
    "len(datasets)"
   ]
  },
  {
   "cell_type": "code",
   "execution_count": 8,
   "metadata": {},
   "outputs": [],
   "source": [
    "batch_size = 1024  # Batch size for training.\n",
    "epochs = 75  # Number of epochs to train for.\n",
    "latent_dim = 256  # Latent dimensionality of the encoding space.\n",
    "data_path = train_easy_sample"
   ]
  },
  {
   "cell_type": "code",
   "execution_count": 9,
   "metadata": {},
   "outputs": [],
   "source": [
    "with open(str(data_path), 'r', encoding='utf-8') as f:\n",
    "    lines = f.read().split('\\n')"
   ]
  },
  {
   "cell_type": "code",
   "execution_count": 10,
   "metadata": {},
   "outputs": [
    {
     "name": "stdout",
     "output_type": "stream",
     "text": [
      "['-3', '-1', '-8', '-4', '-4', '7', '1', '-1', '2', '-3']\n"
     ]
    }
   ],
   "source": [
    "print(lines[1::2][:10])"
   ]
  },
  {
   "cell_type": "code",
   "execution_count": 11,
   "metadata": {},
   "outputs": [],
   "source": [
    "# Vectorize the data.\n",
    "input_texts = []\n",
    "target_texts = []\n",
    "input_characters = set()\n",
    "target_characters = set()\n",
    "with open(str(data_path), 'r', encoding='utf-8') as f:\n",
    "    lines = f.read().split('\\n')[:-1]\n",
    "\n",
    "input_texts = lines[0::2]\n",
    "target_texts = ['\\t' + target_text + '\\n' for target_text in lines[1::2]]\n",
    "\n",
    "input_characters = set(\"\".join(input_texts))\n",
    "target_characters = set(\"\".join(target_texts))"
   ]
  },
  {
   "cell_type": "code",
   "execution_count": 12,
   "metadata": {},
   "outputs": [
    {
     "data": {
      "text/plain": [
       "'\\t5\\n'"
      ]
     },
     "execution_count": 12,
     "metadata": {},
     "output_type": "execute_result"
    }
   ],
   "source": [
    "target_texts[-1]"
   ]
  },
  {
   "cell_type": "code",
   "execution_count": 13,
   "metadata": {},
   "outputs": [
    {
     "name": "stdout",
     "output_type": "stream",
     "text": [
      "Number of samples: 666666\n",
      "Number of unique input tokens: 43\n",
      "Number of unique output tokens: 13\n",
      "Max sequence length for inputs: 41\n",
      "Max sequence length for outputs: 5\n"
     ]
    }
   ],
   "source": [
    "input_characters = sorted(list(input_characters))\n",
    "target_characters = sorted(list(target_characters))\n",
    "num_encoder_tokens = len(input_characters)\n",
    "num_decoder_tokens = len(target_characters)\n",
    "max_encoder_seq_length = max([len(txt) for txt in input_texts])\n",
    "max_decoder_seq_length = max([len(txt) for txt in target_texts])\n",
    "\n",
    "print('Number of samples:', len(input_texts))\n",
    "print('Number of unique input tokens:', num_encoder_tokens)\n",
    "print('Number of unique output tokens:', num_decoder_tokens)\n",
    "print('Max sequence length for inputs:', max_encoder_seq_length)\n",
    "print('Max sequence length for outputs:', max_decoder_seq_length)"
   ]
  },
  {
   "cell_type": "code",
   "execution_count": 14,
   "metadata": {},
   "outputs": [],
   "source": [
    "input_token_index = dict(\n",
    "    [(char, i) for i, char in enumerate(input_characters)])\n",
    "target_token_index = dict(\n",
    "    [(char, i) for i, char in enumerate(target_characters)])"
   ]
  },
  {
   "cell_type": "code",
   "execution_count": 15,
   "metadata": {},
   "outputs": [
    {
     "data": {
      "text/plain": [
       "{'\\t': 0,\n",
       " '\\n': 1,\n",
       " '-': 2,\n",
       " '0': 3,\n",
       " '1': 4,\n",
       " '2': 5,\n",
       " '3': 6,\n",
       " '4': 7,\n",
       " '5': 8,\n",
       " '6': 9,\n",
       " '7': 10,\n",
       " '8': 11,\n",
       " '9': 12}"
      ]
     },
     "execution_count": 15,
     "metadata": {},
     "output_type": "execute_result"
    }
   ],
   "source": [
    "target_token_index"
   ]
  },
  {
   "cell_type": "code",
   "execution_count": 16,
   "metadata": {},
   "outputs": [],
   "source": [
    "def exact_match_metric(y_true, y_pred):\n",
    "    \n",
    "    # get indices from vectors \n",
    "    y_pred_argmax = tf.argmax(y_pred, axis=-1)\n",
    "    y_true_argmax = tf.argmax(y_true, axis=-1)\n",
    "    \n",
    "    # get mask of rows with no entry\n",
    "    mask = tf.equal(tf.reduce_sum(y_true, axis=-1),0)\n",
    "\n",
    "    pred_match = tf.equal(y_pred_argmax, y_true_argmax)  \n",
    "    \n",
    "    # if no label in y_true, then actual match doesn't matter --> equal=True\n",
    "    pred_match_fixed = tf.where(mask, tf.ones_like(pred_match, dtype=tf.bool), pred_match)\n",
    "\n",
    "    exact_match = tf.reduce_min(tf.to_float(pred_match_fixed), axis=[1])\n",
    "    return tf.reduce_mean(exact_match)"
   ]
  },
  {
   "cell_type": "code",
   "execution_count": 17,
   "metadata": {},
   "outputs": [],
   "source": [
    "encoder_input_data = np.zeros(\n",
    "    (len(input_texts), max_encoder_seq_length, num_encoder_tokens),\n",
    "    dtype='float32')\n",
    "decoder_input_data = np.zeros(\n",
    "    (len(input_texts), max_decoder_seq_length, num_decoder_tokens),\n",
    "    dtype='float32')\n",
    "decoder_target_data = np.zeros(\n",
    "    (len(input_texts), max_decoder_seq_length, num_decoder_tokens),\n",
    "    dtype='float32')\n",
    "\n",
    "for i, (input_text, target_text) in enumerate(zip(input_texts, target_texts)):\n",
    "    for t, char in enumerate(input_text):\n",
    "        encoder_input_data[i, t, input_token_index[char]] = 1.\n",
    "    for t, char in enumerate(target_text):\n",
    "        # decoder_target_data is ahead of decoder_input_data by one timestep\n",
    "        decoder_input_data[i, t, target_token_index[char]] = 1.\n",
    "        if t > 0:\n",
    "            # decoder_target_data will be ahead by one timestep\n",
    "            # and will not include the start character.\n",
    "            decoder_target_data[i, t - 1, target_token_index[char]] = 1."
   ]
  },
  {
   "cell_type": "code",
   "execution_count": 18,
   "metadata": {},
   "outputs": [
    {
     "data": {
      "text/plain": [
       "array([[0., 0., 1., 0., 0., 0., 0., 0., 0., 0., 0., 0., 0.],\n",
       "       [0., 0., 0., 0., 0., 0., 1., 0., 0., 0., 0., 0., 0.],\n",
       "       [0., 1., 0., 0., 0., 0., 0., 0., 0., 0., 0., 0., 0.],\n",
       "       [0., 0., 0., 0., 0., 0., 0., 0., 0., 0., 0., 0., 0.],\n",
       "       [0., 0., 0., 0., 0., 0., 0., 0., 0., 0., 0., 0., 0.]],\n",
       "      dtype=float32)"
      ]
     },
     "execution_count": 18,
     "metadata": {},
     "output_type": "execute_result"
    }
   ],
   "source": [
    "decoder_target_data[0]"
   ]
  },
  {
   "cell_type": "code",
   "execution_count": 19,
   "metadata": {},
   "outputs": [],
   "source": [
    "input_token_index = dict(\n",
    "    [(char, i) for i, char in enumerate(input_characters)])\n",
    "target_token_index = dict(\n",
    "    [(char, i) for i, char in enumerate(target_characters)])"
   ]
  },
  {
   "cell_type": "code",
   "execution_count": 20,
   "metadata": {},
   "outputs": [],
   "source": [
    "encoder_input_data = np.zeros(\n",
    "    (len(input_texts), max_encoder_seq_length, num_encoder_tokens),\n",
    "    dtype='float32')\n",
    "decoder_input_data = np.zeros(\n",
    "    (len(input_texts), max_decoder_seq_length, num_decoder_tokens),\n",
    "    dtype='float32')\n",
    "decoder_target_data = np.zeros(\n",
    "    (len(input_texts), max_decoder_seq_length, num_decoder_tokens),\n",
    "    dtype='float32')"
   ]
  },
  {
   "cell_type": "code",
   "execution_count": 21,
   "metadata": {},
   "outputs": [],
   "source": [
    "for i, (input_text, target_text) in enumerate(zip(input_texts, target_texts)):\n",
    "    for t, char in enumerate(input_text):\n",
    "        encoder_input_data[i, t, input_token_index[char]] = 1.\n",
    "    for t, char in enumerate(target_text):\n",
    "        # decoder_target_data is ahead of decoder_input_data by one timestep\n",
    "        decoder_input_data[i, t, target_token_index[char]] = 1.\n",
    "        if t > 0:\n",
    "            # decoder_target_data will be ahead by one timestep\n",
    "            # and will not include the start character.\n",
    "            decoder_target_data[i, t - 1, target_token_index[char]] = 1."
   ]
  },
  {
   "cell_type": "code",
   "execution_count": null,
   "metadata": {},
   "outputs": [],
   "source": [
    "# Define an input sequence and process it.\n",
    "encoder_inputs = Input(shape=(None, num_encoder_tokens))\n",
    "encoder = LSTM(latent_dim, return_state=True)\n",
    "encoder_outputs, state_h, state_c = encoder(encoder_inputs)\n",
    "# We discard `encoder_outputs` and only keep the states.\n",
    "encoder_states = [state_h, state_c]\n",
    "\n",
    "# Set up the decoder, using `encoder_states` as initial state.\n",
    "decoder_inputs = Input(shape=(None, num_decoder_tokens))\n",
    "# We set up our decoder to return full output sequences,\n",
    "# and to return internal states as well. We don't use the\n",
    "# return states in the training model, but we will use them in inference.\n",
    "decoder_lstm = LSTM(latent_dim, return_sequences=True, return_state=True)\n",
    "decoder_outputs, _, _ = decoder_lstm(decoder_inputs,\n",
    "                                     initial_state=encoder_states)\n",
    "decoder_dense = Dense(num_decoder_tokens, activation='softmax')\n",
    "decoder_outputs = decoder_dense(decoder_outputs)"
   ]
  },
  {
   "cell_type": "code",
   "execution_count": 22,
   "metadata": {},
   "outputs": [
    {
     "name": "stdout",
     "output_type": "stream",
     "text": [
      "Train on 533332 samples, validate on 133334 samples\n",
      "Epoch 1/75\n",
      "533332/533332 [==============================] - 39s 73us/step - loss: 0.6248 - exact_match_metric: 0.0520 - val_loss: 0.5752 - val_exact_match_metric: 0.0739\n",
      "Epoch 2/75\n",
      "533332/533332 [==============================] - 38s 71us/step - loss: 0.5573 - exact_match_metric: 0.0907 - val_loss: 0.5301 - val_exact_match_metric: 0.1210\n",
      "Epoch 3/75\n",
      "533332/533332 [==============================] - 38s 71us/step - loss: 0.5149 - exact_match_metric: 0.1459 - val_loss: 0.5000 - val_exact_match_metric: 0.1687\n",
      "Epoch 4/75\n",
      "533332/533332 [==============================] - 38s 72us/step - loss: 0.4828 - exact_match_metric: 0.1860 - val_loss: 0.4692 - val_exact_match_metric: 0.1995\n",
      "Epoch 5/75\n",
      "533332/533332 [==============================] - 38s 71us/step - loss: 0.4550 - exact_match_metric: 0.2119 - val_loss: 0.4410 - val_exact_match_metric: 0.2270\n",
      "Epoch 6/75\n",
      "533332/533332 [==============================] - 38s 72us/step - loss: 0.4242 - exact_match_metric: 0.2418 - val_loss: 0.4066 - val_exact_match_metric: 0.2614\n",
      "Epoch 7/75\n",
      "533332/533332 [==============================] - 38s 72us/step - loss: 0.3799 - exact_match_metric: 0.2843 - val_loss: 0.3591 - val_exact_match_metric: 0.2998\n",
      "Epoch 8/75\n",
      "533332/533332 [==============================] - 38s 72us/step - loss: 0.3428 - exact_match_metric: 0.3168 - val_loss: 0.3259 - val_exact_match_metric: 0.3352\n",
      "Epoch 9/75\n",
      "533332/533332 [==============================] - 38s 71us/step - loss: 0.3133 - exact_match_metric: 0.3471 - val_loss: 0.2969 - val_exact_match_metric: 0.3644\n",
      "Epoch 10/75\n",
      "533332/533332 [==============================] - 38s 72us/step - loss: 0.2895 - exact_match_metric: 0.3732 - val_loss: 0.2781 - val_exact_match_metric: 0.3821\n",
      "Epoch 11/75\n",
      "533332/533332 [==============================] - 38s 72us/step - loss: 0.2704 - exact_match_metric: 0.3939 - val_loss: 0.2699 - val_exact_match_metric: 0.3928\n",
      "Epoch 12/75\n",
      "533332/533332 [==============================] - 39s 72us/step - loss: 0.2560 - exact_match_metric: 0.4099 - val_loss: 0.2529 - val_exact_match_metric: 0.4106\n",
      "Epoch 13/75\n",
      "533332/533332 [==============================] - 39s 72us/step - loss: 0.2444 - exact_match_metric: 0.4223 - val_loss: 0.2468 - val_exact_match_metric: 0.4191\n",
      "Epoch 14/75\n",
      "533332/533332 [==============================] - 38s 71us/step - loss: 0.2348 - exact_match_metric: 0.4316 - val_loss: 0.2338 - val_exact_match_metric: 0.4318\n",
      "Epoch 15/75\n",
      "533332/533332 [==============================] - 38s 71us/step - loss: 0.2267 - exact_match_metric: 0.4396 - val_loss: 0.2302 - val_exact_match_metric: 0.4320\n",
      "Epoch 16/75\n",
      "533332/533332 [==============================] - 38s 72us/step - loss: 0.2232 - exact_match_metric: 0.4440 - val_loss: 0.2183 - val_exact_match_metric: 0.4476\n",
      "Epoch 17/75\n",
      "533332/533332 [==============================] - 38s 72us/step - loss: 0.2180 - exact_match_metric: 0.4493 - val_loss: 0.2269 - val_exact_match_metric: 0.4340\n",
      "Epoch 18/75\n",
      "533332/533332 [==============================] - 38s 72us/step - loss: 0.2157 - exact_match_metric: 0.4521 - val_loss: 0.2164 - val_exact_match_metric: 0.4468\n",
      "Epoch 19/75\n",
      "533332/533332 [==============================] - 38s 71us/step - loss: 0.2129 - exact_match_metric: 0.4549 - val_loss: 0.2120 - val_exact_match_metric: 0.4500\n",
      "Epoch 20/75\n",
      "533332/533332 [==============================] - 38s 72us/step - loss: 0.2092 - exact_match_metric: 0.4592 - val_loss: 0.2174 - val_exact_match_metric: 0.4438\n",
      "Epoch 21/75\n",
      "533332/533332 [==============================] - 38s 72us/step - loss: 0.2076 - exact_match_metric: 0.4625 - val_loss: 0.2092 - val_exact_match_metric: 0.4529\n",
      "Epoch 22/75\n",
      "533332/533332 [==============================] - 38s 72us/step - loss: 0.2063 - exact_match_metric: 0.4636 - val_loss: 0.2116 - val_exact_match_metric: 0.4511\n",
      "Epoch 23/75\n",
      "533332/533332 [==============================] - 38s 72us/step - loss: 0.2026 - exact_match_metric: 0.4681 - val_loss: 0.2207 - val_exact_match_metric: 0.4411\n",
      "Epoch 24/75\n",
      "533332/533332 [==============================] - 38s 72us/step - loss: 0.2019 - exact_match_metric: 0.4692 - val_loss: 0.1943 - val_exact_match_metric: 0.4695\n",
      "Epoch 25/75\n",
      "533332/533332 [==============================] - 38s 72us/step - loss: 0.1995 - exact_match_metric: 0.4713 - val_loss: 0.1999 - val_exact_match_metric: 0.4622\n",
      "Epoch 26/75\n",
      "533332/533332 [==============================] - 38s 72us/step - loss: 0.1980 - exact_match_metric: 0.4735 - val_loss: 0.1989 - val_exact_match_metric: 0.4629\n",
      "Epoch 27/75\n",
      "533332/533332 [==============================] - 38s 72us/step - loss: 0.1978 - exact_match_metric: 0.4739 - val_loss: 0.1943 - val_exact_match_metric: 0.4663\n",
      "Epoch 28/75\n",
      "533332/533332 [==============================] - 38s 72us/step - loss: 0.1950 - exact_match_metric: 0.4784 - val_loss: 0.2077 - val_exact_match_metric: 0.4560\n",
      "Epoch 29/75\n",
      "533332/533332 [==============================] - 38s 72us/step - loss: 0.1955 - exact_match_metric: 0.4787 - val_loss: 0.1945 - val_exact_match_metric: 0.4689\n",
      "Epoch 30/75\n",
      "533332/533332 [==============================] - 38s 72us/step - loss: 0.1930 - exact_match_metric: 0.4809 - val_loss: 0.2154 - val_exact_match_metric: 0.4459\n",
      "Epoch 31/75\n",
      "533332/533332 [==============================] - 38s 72us/step - loss: 0.1925 - exact_match_metric: 0.4823 - val_loss: 0.1904 - val_exact_match_metric: 0.4704\n",
      "Epoch 32/75\n",
      "533332/533332 [==============================] - 38s 72us/step - loss: 0.1921 - exact_match_metric: 0.4829 - val_loss: 0.1909 - val_exact_match_metric: 0.4710\n",
      "Epoch 33/75\n",
      "533332/533332 [==============================] - 38s 72us/step - loss: 0.1905 - exact_match_metric: 0.4863 - val_loss: 0.1880 - val_exact_match_metric: 0.4759\n",
      "Epoch 34/75\n",
      "533332/533332 [==============================] - 38s 72us/step - loss: 0.1905 - exact_match_metric: 0.4864 - val_loss: 0.1912 - val_exact_match_metric: 0.4724\n",
      "Epoch 35/75\n",
      "533332/533332 [==============================] - 38s 72us/step - loss: 0.1895 - exact_match_metric: 0.4892 - val_loss: 0.1875 - val_exact_match_metric: 0.4786\n",
      "Epoch 36/75\n",
      "533332/533332 [==============================] - 38s 71us/step - loss: 0.1871 - exact_match_metric: 0.4926 - val_loss: 0.1949 - val_exact_match_metric: 0.4678\n",
      "Epoch 37/75\n",
      "533332/533332 [==============================] - 38s 72us/step - loss: 0.1869 - exact_match_metric: 0.4934 - val_loss: 0.1912 - val_exact_match_metric: 0.4747\n",
      "Epoch 38/75\n",
      "533332/533332 [==============================] - 38s 72us/step - loss: 0.1859 - exact_match_metric: 0.4955 - val_loss: 0.1906 - val_exact_match_metric: 0.4751\n",
      "Epoch 39/75\n",
      "533332/533332 [==============================] - 38s 72us/step - loss: 0.1858 - exact_match_metric: 0.4974 - val_loss: 0.1970 - val_exact_match_metric: 0.4678\n",
      "Epoch 40/75\n",
      "533332/533332 [==============================] - 38s 72us/step - loss: 0.1831 - exact_match_metric: 0.5049 - val_loss: 0.2276 - val_exact_match_metric: 0.4557\n",
      "Epoch 41/75\n",
      "533332/533332 [==============================] - 38s 72us/step - loss: 0.1833 - exact_match_metric: 0.5095 - val_loss: 0.1904 - val_exact_match_metric: 0.4896\n",
      "Epoch 42/75\n",
      "533332/533332 [==============================] - 38s 71us/step - loss: 0.1810 - exact_match_metric: 0.5245 - val_loss: 0.1912 - val_exact_match_metric: 0.5003\n",
      "Epoch 43/75\n",
      "533332/533332 [==============================] - 38s 71us/step - loss: 0.1753 - exact_match_metric: 0.5671 - val_loss: 0.1845 - val_exact_match_metric: 0.5931\n",
      "Epoch 44/75\n",
      "533332/533332 [==============================] - 38s 72us/step - loss: 0.1587 - exact_match_metric: 0.6491 - val_loss: 0.1500 - val_exact_match_metric: 0.6811\n",
      "Epoch 45/75\n",
      "533332/533332 [==============================] - 38s 71us/step - loss: 0.1409 - exact_match_metric: 0.7068 - val_loss: 0.1274 - val_exact_match_metric: 0.7423\n",
      "Epoch 46/75\n",
      "533332/533332 [==============================] - 38s 71us/step - loss: 0.1258 - exact_match_metric: 0.7455 - val_loss: 0.1199 - val_exact_match_metric: 0.7609\n",
      "Epoch 47/75\n",
      "533332/533332 [==============================] - 38s 72us/step - loss: 0.1127 - exact_match_metric: 0.7770 - val_loss: 0.1129 - val_exact_match_metric: 0.7782\n",
      "Epoch 48/75\n",
      "533332/533332 [==============================] - 38s 72us/step - loss: 0.0992 - exact_match_metric: 0.8056 - val_loss: 0.0930 - val_exact_match_metric: 0.8222\n",
      "Epoch 49/75\n",
      "533332/533332 [==============================] - 38s 71us/step - loss: 0.0870 - exact_match_metric: 0.8314 - val_loss: 0.0867 - val_exact_match_metric: 0.8316\n",
      "Epoch 50/75\n",
      "533332/533332 [==============================] - 38s 71us/step - loss: 0.0778 - exact_match_metric: 0.8494 - val_loss: 0.0731 - val_exact_match_metric: 0.8567\n",
      "Epoch 51/75\n",
      "533332/533332 [==============================] - 38s 72us/step - loss: 0.0702 - exact_match_metric: 0.8634 - val_loss: 0.0618 - val_exact_match_metric: 0.8815\n",
      "Epoch 52/75\n",
      "533332/533332 [==============================] - 38s 72us/step - loss: 0.0629 - exact_match_metric: 0.8776 - val_loss: 0.0828 - val_exact_match_metric: 0.8423\n",
      "Epoch 53/75\n",
      "533332/533332 [==============================] - 38s 71us/step - loss: 0.0603 - exact_match_metric: 0.8820 - val_loss: 0.0590 - val_exact_match_metric: 0.8835\n",
      "Epoch 54/75\n",
      "533332/533332 [==============================] - 38s 72us/step - loss: 0.0571 - exact_match_metric: 0.8883 - val_loss: 0.0514 - val_exact_match_metric: 0.8980\n",
      "Epoch 55/75\n",
      "533332/533332 [==============================] - 38s 72us/step - loss: 0.0544 - exact_match_metric: 0.8928 - val_loss: 0.0466 - val_exact_match_metric: 0.9087\n",
      "Epoch 56/75\n",
      "533332/533332 [==============================] - 38s 72us/step - loss: 0.0529 - exact_match_metric: 0.8954 - val_loss: 0.0492 - val_exact_match_metric: 0.9001\n",
      "Epoch 57/75\n",
      "533332/533332 [==============================] - 39s 72us/step - loss: 0.0504 - exact_match_metric: 0.9004 - val_loss: 0.0473 - val_exact_match_metric: 0.9040\n",
      "Epoch 58/75\n",
      "533332/533332 [==============================] - 38s 71us/step - loss: 0.0512 - exact_match_metric: 0.8988 - val_loss: 0.0652 - val_exact_match_metric: 0.8727\n",
      "Epoch 59/75\n",
      "533332/533332 [==============================] - 38s 72us/step - loss: 0.0500 - exact_match_metric: 0.9010 - val_loss: 0.0439 - val_exact_match_metric: 0.9109\n",
      "Epoch 60/75\n",
      "533332/533332 [==============================] - 38s 72us/step - loss: 0.0489 - exact_match_metric: 0.9030 - val_loss: 0.0437 - val_exact_match_metric: 0.9132\n",
      "Epoch 61/75\n",
      "533332/533332 [==============================] - 38s 72us/step - loss: 0.0470 - exact_match_metric: 0.9061 - val_loss: 0.0476 - val_exact_match_metric: 0.9043\n",
      "Epoch 62/75\n",
      "533332/533332 [==============================] - 39s 72us/step - loss: 0.0491 - exact_match_metric: 0.9026 - val_loss: 0.0498 - val_exact_match_metric: 0.9000\n",
      "Epoch 63/75\n",
      "533332/533332 [==============================] - 38s 72us/step - loss: 0.0462 - exact_match_metric: 0.9075 - val_loss: 0.0476 - val_exact_match_metric: 0.9030\n",
      "Epoch 64/75\n",
      "533332/533332 [==============================] - 39s 73us/step - loss: 0.0450 - exact_match_metric: 0.9096 - val_loss: 0.0433 - val_exact_match_metric: 0.9127\n",
      "Epoch 65/75\n",
      "533332/533332 [==============================] - 39s 72us/step - loss: 0.0462 - exact_match_metric: 0.9082 - val_loss: 0.0513 - val_exact_match_metric: 0.8981\n",
      "Epoch 66/75\n",
      "533332/533332 [==============================] - 38s 72us/step - loss: 0.0441 - exact_match_metric: 0.9118 - val_loss: 0.1068 - val_exact_match_metric: 0.8506\n",
      "Epoch 67/75\n",
      "533332/533332 [==============================] - 38s 72us/step - loss: 0.0431 - exact_match_metric: 0.9134 - val_loss: 0.0431 - val_exact_match_metric: 0.9143\n",
      "Epoch 68/75\n",
      "533332/533332 [==============================] - 38s 72us/step - loss: 0.0425 - exact_match_metric: 0.9149 - val_loss: 0.0513 - val_exact_match_metric: 0.8988\n",
      "Epoch 69/75\n",
      "533332/533332 [==============================] - 38s 71us/step - loss: 0.0423 - exact_match_metric: 0.9146 - val_loss: 0.0452 - val_exact_match_metric: 0.9084\n",
      "Epoch 70/75\n",
      "533332/533332 [==============================] - 38s 71us/step - loss: 0.0423 - exact_match_metric: 0.9148 - val_loss: 0.0428 - val_exact_match_metric: 0.9134\n",
      "Epoch 71/75\n",
      "533332/533332 [==============================] - 38s 72us/step - loss: 0.0421 - exact_match_metric: 0.9151 - val_loss: 0.0434 - val_exact_match_metric: 0.9140\n",
      "Epoch 72/75\n",
      "533332/533332 [==============================] - 38s 71us/step - loss: 0.0413 - exact_match_metric: 0.9174 - val_loss: 0.0440 - val_exact_match_metric: 0.9116\n",
      "Epoch 73/75\n",
      "533332/533332 [==============================] - 38s 72us/step - loss: 0.0403 - exact_match_metric: 0.9186 - val_loss: 0.0444 - val_exact_match_metric: 0.9112\n",
      "Epoch 74/75\n",
      "533332/533332 [==============================] - 38s 71us/step - loss: 0.0404 - exact_match_metric: 0.9188 - val_loss: 0.0442 - val_exact_match_metric: 0.9091\n",
      "Epoch 75/75\n",
      "533332/533332 [==============================] - 38s 72us/step - loss: 0.0404 - exact_match_metric: 0.9192 - val_loss: 0.0432 - val_exact_match_metric: 0.9111\n"
     ]
    },
    {
     "name": "stderr",
     "output_type": "stream",
     "text": [
      "/usr/local/lib/python3.5/dist-packages/keras/engine/network.py:877: UserWarning: Layer lstm_2 was passed non-serializable keyword arguments: {'initial_state': [<tf.Tensor 'lstm_1/while/Exit_2:0' shape=(?, 256) dtype=float32>, <tf.Tensor 'lstm_1/while/Exit_3:0' shape=(?, 256) dtype=float32>]}. They will not be included in the serialized model (and thus will be missing at deserialization time).\n",
      "  '. They will not be included '\n"
     ]
    }
   ],
   "source": [
    "# Define the model that will turn\n",
    "# `encoder_input_data` & `decoder_input_data` into `decoder_target_data`\n",
    "model = Model([encoder_inputs, decoder_inputs], decoder_outputs)\n",
    "\n",
    "# Run training\n",
    "adam = Adam(lr=6e-4, beta_1=0.9, beta_2=0.995, epsilon=1e-9, decay=0.0, amsgrad=False)\n",
    "\n",
    "model.compile(optimizer=adam, loss='categorical_crossentropy', metrics=[exact_match_metric])\n",
    "trian_hist = model.fit([encoder_input_data, decoder_input_data], decoder_target_data,\n",
    "                       batch_size=batch_size,\n",
    "                       epochs=epochs,\n",
    "                       validation_split=0.2\n",
    "                       )\n",
    "# Save model\n",
    "model.save('simple-lstm-2.h5')"
   ]
  },
  {
   "cell_type": "code",
   "execution_count": 23,
   "metadata": {},
   "outputs": [],
   "source": [
    "# Next: inference mode (sampling).\n",
    "# Here's the drill:\n",
    "# 1) encode input and retrieve initial decoder state\n",
    "# 2) run one step of decoder with this initial state\n",
    "# and a \"start of sequence\" token as target.\n",
    "# Output will be the next target token\n",
    "# 3) Repeat with the current target token and current states\n",
    "\n",
    "# Define sampling models\n",
    "encoder_model = Model(encoder_inputs, encoder_states)\n",
    "\n",
    "decoder_state_input_h = Input(shape=(latent_dim,))\n",
    "decoder_state_input_c = Input(shape=(latent_dim,))\n",
    "decoder_states_inputs = [decoder_state_input_h, decoder_state_input_c]\n",
    "decoder_outputs, state_h, state_c = decoder_lstm(\n",
    "    decoder_inputs, initial_state=decoder_states_inputs)\n",
    "decoder_states = [state_h, state_c]\n",
    "decoder_outputs = decoder_dense(decoder_outputs)\n",
    "decoder_model = Model(\n",
    "    [decoder_inputs] + decoder_states_inputs,\n",
    "    [decoder_outputs] + decoder_states)\n",
    "\n",
    "# Reverse-lookup token index to decode sequences back to\n",
    "# something readable.\n",
    "reverse_input_char_index = dict(\n",
    "    (i, char) for char, i in input_token_index.items())\n",
    "reverse_target_char_index = dict(\n",
    "    (i, char) for char, i in target_token_index.items())\n",
    "\n",
    "\n",
    "def decode_sequence(input_seq):\n",
    "    # Encode the input as state vectors.\n",
    "    states_value = encoder_model.predict(input_seq)\n",
    "\n",
    "    # Generate empty target sequence of length 1.\n",
    "    target_seq = np.zeros((1, 1, num_decoder_tokens))\n",
    "    # Populate the first character of target sequence with the start character.\n",
    "    target_seq[0, 0, target_token_index['\\t']] = 1.\n",
    "\n",
    "    # Sampling loop for a batch of sequences\n",
    "    # (to simplify, here we assume a batch of size 1).\n",
    "    stop_condition = False\n",
    "    decoded_sentence = ''\n",
    "    while not stop_condition:\n",
    "        output_tokens, h, c = decoder_model.predict(\n",
    "            [target_seq] + states_value)\n",
    "\n",
    "        # Sample a token\n",
    "        sampled_token_index = np.argmax(output_tokens[0, -1, :])\n",
    "        sampled_char = reverse_target_char_index[sampled_token_index]\n",
    "        decoded_sentence += sampled_char\n",
    "\n",
    "        # Exit condition: either hit max length\n",
    "        # or find stop character.\n",
    "        if (sampled_char == '\\n' or\n",
    "           len(decoded_sentence) > max_decoder_seq_length):\n",
    "            stop_condition = True\n",
    "\n",
    "        # Update the target sequence (of length 1).\n",
    "        target_seq = np.zeros((1, 1, num_decoder_tokens))\n",
    "        target_seq[0, 0, sampled_token_index] = 1.\n",
    "\n",
    "        # Update states\n",
    "        states_value = [h, c]\n",
    "\n",
    "    return decoded_sentence"
   ]
  },
  {
   "cell_type": "code",
   "execution_count": 24,
   "metadata": {},
   "outputs": [
    {
     "name": "stdout",
     "output_type": "stream",
     "text": [
      "-\n",
      "Input sentence: Solve 0 = 4*b + b + 15 for b.\n",
      "Decoded sentence: -3\n",
      "\n",
      "-\n",
      "Input sentence: Solve -3*d = -0*d + 3 for d.\n",
      "Decoded sentence: -1\n",
      "\n",
      "-\n",
      "Input sentence: Solve -4*h + 9 = 41 for h.\n",
      "Decoded sentence: -8\n",
      "\n",
      "-\n",
      "Input sentence: Solve 2514*m = 2508*m - 24 for m.\n",
      "Decoded sentence: -6\n",
      "\n",
      "-\n",
      "Input sentence: Solve -7*a + 6*a = 4 for a.\n",
      "Decoded sentence: -4\n",
      "\n",
      "-\n",
      "Input sentence: Solve 288*w - 298*w = -70 for w.\n",
      "Decoded sentence: 7\n",
      "\n",
      "-\n",
      "Input sentence: Solve -14*h = -4*h - 10 for h.\n",
      "Decoded sentence: 1\n",
      "\n",
      "-\n",
      "Input sentence: Solve 5*w + 3 = -2 for w.\n",
      "Decoded sentence: -1\n",
      "\n",
      "-\n",
      "Input sentence: Solve -15*f + 21*f - 12 = 0 for f.\n",
      "Decoded sentence: 2\n",
      "\n",
      "-\n",
      "Input sentence: Solve -22 = 6*c - 4 for c.\n",
      "Decoded sentence: -3\n",
      "\n",
      "-\n",
      "Input sentence: Solve 13*z - 7*z + 30 = 0 for z.\n",
      "Decoded sentence: -5\n",
      "\n",
      "-\n",
      "Input sentence: Solve -4*v + 224 = -32*v for v.\n",
      "Decoded sentence: -8\n",
      "\n",
      "-\n",
      "Input sentence: Solve 0 = -4*j - 906 + 894 for j.\n",
      "Decoded sentence: -5\n",
      "\n",
      "-\n",
      "Input sentence: Solve -70*n - 222 = -107*n for n.\n",
      "Decoded sentence: 6\n",
      "\n",
      "-\n",
      "Input sentence: Solve 0 = 5*f - 24 + 14 for f.\n",
      "Decoded sentence: 2\n",
      "\n",
      "-\n",
      "Input sentence: Solve 56*l + 25 = 61*l for l.\n",
      "Decoded sentence: 5\n",
      "\n",
      "-\n",
      "Input sentence: Solve 2*y - 9*y = 21 for y.\n",
      "Decoded sentence: -3\n",
      "\n",
      "-\n",
      "Input sentence: Solve -4*d - 14 + 6 = 0 for d.\n",
      "Decoded sentence: -2\n",
      "\n",
      "-\n",
      "Input sentence: Solve -9 = 4*x - 5 for x.\n",
      "Decoded sentence: -1\n",
      "\n",
      "-\n",
      "Input sentence: Solve -30 = -14*r + 8*r for r.\n",
      "Decoded sentence: 5\n",
      "\n",
      "-\n",
      "Input sentence: Solve 36*u - 20 = 52 for u.\n",
      "Decoded sentence: 2\n",
      "\n",
      "-\n",
      "Input sentence: Solve -3*v = -58 + 79 for v.\n",
      "Decoded sentence: -7\n",
      "\n",
      "-\n",
      "Input sentence: Solve 212 = 56*z + 44 for z.\n",
      "Decoded sentence: 3\n",
      "\n",
      "-\n",
      "Input sentence: Solve 0 - 16 = -4*m for m.\n",
      "Decoded sentence: 4\n",
      "\n",
      "-\n",
      "Input sentence: Solve -4*f - 56 = -40 for f.\n",
      "Decoded sentence: -4\n",
      "\n",
      "-\n",
      "Input sentence: Solve 0 = 79*g - 72*g - 63 for g.\n",
      "Decoded sentence: 9\n",
      "\n",
      "-\n",
      "Input sentence: Solve 60*k + 198 = 27*k for k.\n",
      "Decoded sentence: -6\n",
      "\n",
      "-\n",
      "Input sentence: Solve 50 = 10*q - 0*q for q.\n",
      "Decoded sentence: 5\n",
      "\n",
      "-\n",
      "Input sentence: Solve 3*q = -3*q - 18 for q.\n",
      "Decoded sentence: -3\n",
      "\n",
      "-\n",
      "Input sentence: Solve 4*i - 28 = 18*i for i.\n",
      "Decoded sentence: -2\n",
      "\n",
      "-\n",
      "Input sentence: Solve 57 = -15*y - 4*y for y.\n",
      "Decoded sentence: -3\n",
      "\n",
      "-\n",
      "Input sentence: Solve 2*v + 5 - 13 = 0 for v.\n",
      "Decoded sentence: 4\n",
      "\n",
      "-\n",
      "Input sentence: Solve -2 + 48 = -23*w for w.\n",
      "Decoded sentence: -2\n",
      "\n",
      "-\n",
      "Input sentence: Solve u + 8 = 5*u for u.\n",
      "Decoded sentence: 2\n",
      "\n",
      "-\n",
      "Input sentence: Solve -14*l + 3 = 3 for l.\n",
      "Decoded sentence: 0\n",
      "\n",
      "-\n",
      "Input sentence: Solve 0 = 4*m + 11 - 7 for m.\n",
      "Decoded sentence: -1\n",
      "\n",
      "-\n",
      "Input sentence: Solve 18*v + 30 = -12*v for v.\n",
      "Decoded sentence: -1\n",
      "\n",
      "-\n",
      "Input sentence: Solve 38 = 49*i - 60 for i.\n",
      "Decoded sentence: 2\n",
      "\n",
      "-\n",
      "Input sentence: Solve 62 = 12*a + 2 for a.\n",
      "Decoded sentence: 5\n",
      "\n",
      "-\n",
      "Input sentence: Solve 20*j + 14*j = -204 for j.\n",
      "Decoded sentence: -6\n",
      "\n",
      "-\n",
      "Input sentence: Solve -147 = -4*w - 163 for w.\n",
      "Decoded sentence: -4\n",
      "\n",
      "-\n",
      "Input sentence: Solve 8*m - 9 = -m for m.\n",
      "Decoded sentence: 1\n",
      "\n",
      "-\n",
      "Input sentence: Solve 15*p = 6*p + 36 for p.\n",
      "Decoded sentence: 4\n",
      "\n",
      "-\n",
      "Input sentence: Solve 30*i + 0 = -60 for i.\n",
      "Decoded sentence: -2\n",
      "\n",
      "-\n",
      "Input sentence: Solve g = -g - 2*g for g.\n",
      "Decoded sentence: 0\n",
      "\n",
      "-\n",
      "Input sentence: Solve -7*l = 69 - 76 for l.\n",
      "Decoded sentence: 1\n",
      "\n",
      "-\n",
      "Input sentence: Solve 26*z = -48*z + 518 for z.\n",
      "Decoded sentence: 7\n",
      "\n",
      "-\n",
      "Input sentence: Solve -3*d - 14*d - 17 = 0 for d.\n",
      "Decoded sentence: -1\n",
      "\n",
      "-\n",
      "Input sentence: Solve 2*a = -a + 12 for a.\n",
      "Decoded sentence: 4\n",
      "\n",
      "-\n",
      "Input sentence: Solve 0 = -34*s + 26*s for s.\n",
      "Decoded sentence: 0\n",
      "\n",
      "-\n",
      "Input sentence: Solve -5 + 25 = -5*l for l.\n",
      "Decoded sentence: -4\n",
      "\n",
      "-\n",
      "Input sentence: Solve 2642*d - 6 = 2639*d for d.\n",
      "Decoded sentence: -2\n",
      "\n",
      "-\n",
      "Input sentence: Solve 0 = 10773*c - 10764*c + 54 for c.\n",
      "Decoded sentence: -6\n",
      "\n",
      "-\n",
      "Input sentence: Solve 2*r + 12 = 18 for r.\n",
      "Decoded sentence: 3\n",
      "\n",
      "-\n",
      "Input sentence: Solve 5*c + 3*c - 3*c = 0 for c.\n",
      "Decoded sentence: 0\n",
      "\n",
      "-\n",
      "Input sentence: Solve -6*m - 60 = 6*m for m.\n",
      "Decoded sentence: -5\n",
      "\n",
      "-\n",
      "Input sentence: Solve -33 = -11*s - 0 for s.\n",
      "Decoded sentence: 3\n",
      "\n",
      "-\n",
      "Input sentence: Solve 0 = 2*m - 3 + 5 for m.\n",
      "Decoded sentence: -1\n",
      "\n",
      "-\n",
      "Input sentence: Solve 30 - 9 = 7*t for t.\n",
      "Decoded sentence: 3\n",
      "\n",
      "-\n",
      "Input sentence: Solve -3*q - 2 - 1 = 0 for q.\n",
      "Decoded sentence: -1\n",
      "\n",
      "-\n",
      "Input sentence: Solve -31*c + 50 = 236 for c.\n",
      "Decoded sentence: -6\n",
      "\n",
      "-\n",
      "Input sentence: Solve 5*q + 2 = 4*q for q.\n",
      "Decoded sentence: -2\n",
      "\n",
      "-\n",
      "Input sentence: Solve -4*j - 57 + 61 = 0 for j.\n",
      "Decoded sentence: 1\n",
      "\n",
      "-\n",
      "Input sentence: Solve -10*f - 2*f = 48 for f.\n",
      "Decoded sentence: -4\n",
      "\n",
      "-\n",
      "Input sentence: Solve 20*o - 16*o = -8 for o.\n",
      "Decoded sentence: -2\n",
      "\n",
      "-\n",
      "Input sentence: Solve -7*u = 6*u + 91 for u.\n",
      "Decoded sentence: -7\n",
      "\n",
      "-\n",
      "Input sentence: Solve 54*y - 72*y = 72 for y.\n",
      "Decoded sentence: -4\n",
      "\n",
      "-\n",
      "Input sentence: Solve 6*x - 8 = 2*x for x.\n",
      "Decoded sentence: 2\n",
      "\n",
      "-\n",
      "Input sentence: Solve 0 = -35*a + 65*a + 270 for a.\n",
      "Decoded sentence: -9\n",
      "\n",
      "-\n",
      "Input sentence: Solve 8*k - 629 + 573 = 0 for k.\n",
      "Decoded sentence: 6\n",
      "\n",
      "-\n",
      "Input sentence: Solve -8*j + 429 - 405 = 0 for j.\n",
      "Decoded sentence: 3\n",
      "\n",
      "-\n",
      "Input sentence: Solve 46*o = 52*o + 42 for o.\n",
      "Decoded sentence: -7\n",
      "\n",
      "-\n",
      "Input sentence: Solve -12*h + 14 = 2*h for h.\n",
      "Decoded sentence: 1\n",
      "\n",
      "-\n",
      "Input sentence: Solve -53*d + 54*d - 2 = 0 for d.\n",
      "Decoded sentence: 2\n",
      "\n",
      "-\n",
      "Input sentence: Solve -8*i - 218 = -242 for i.\n",
      "Decoded sentence: 4\n",
      "\n",
      "-\n",
      "Input sentence: Solve 87*z = 121*z - 340 for z.\n",
      "Decoded sentence: 10\n",
      "\n",
      "-\n",
      "Input sentence: Solve 24 = -16*b + 40 for b.\n",
      "Decoded sentence: 1\n",
      "\n",
      "-\n",
      "Input sentence: Solve 154 = -39*v - 41 for v.\n",
      "Decoded sentence: -5\n",
      "\n",
      "-\n",
      "Input sentence: Solve -11*j + 14 - 47 = 0 for j.\n",
      "Decoded sentence: -3\n",
      "\n",
      "-\n",
      "Input sentence: Solve -12*b = -35*b + 92 for b.\n",
      "Decoded sentence: 4\n",
      "\n",
      "-\n",
      "Input sentence: Solve -4*u + 63 = 71 for u.\n",
      "Decoded sentence: -2\n",
      "\n",
      "-\n",
      "Input sentence: Solve 0 = -9*n - n - 50 for n.\n",
      "Decoded sentence: -5\n",
      "\n",
      "-\n",
      "Input sentence: Solve -150 = 44*p + 114 for p.\n",
      "Decoded sentence: -6\n",
      "\n",
      "-\n",
      "Input sentence: Solve -27*c + 116 = -46 for c.\n",
      "Decoded sentence: 6\n",
      "\n",
      "-\n",
      "Input sentence: Solve 0 = y + 2*y + 2*y for y.\n",
      "Decoded sentence: 0\n",
      "\n",
      "-\n",
      "Input sentence: Solve 5*n + 4 = -16 for n.\n",
      "Decoded sentence: -4\n",
      "\n",
      "-\n",
      "Input sentence: Solve -4*a - 10 = -18 for a.\n",
      "Decoded sentence: 2\n",
      "\n",
      "-\n",
      "Input sentence: Solve 9 + 7 = 4*c for c.\n",
      "Decoded sentence: 4\n",
      "\n",
      "-\n",
      "Input sentence: Solve y = 8*y - y for y.\n",
      "Decoded sentence: 0\n",
      "\n",
      "-\n",
      "Input sentence: Solve 47*p - 20*p - 108 = 0 for p.\n",
      "Decoded sentence: 4\n",
      "\n",
      "-\n",
      "Input sentence: Solve 6*q = -181 + 139 for q.\n",
      "Decoded sentence: -7\n",
      "\n",
      "-\n",
      "Input sentence: Solve 4*o - 26 + 38 = 0 for o.\n",
      "Decoded sentence: -3\n",
      "\n",
      "-\n",
      "Input sentence: Solve -182 - 434 = -77*k for k.\n",
      "Decoded sentence: 8\n",
      "\n",
      "-\n",
      "Input sentence: Solve -11*g = 2*g + 52 for g.\n",
      "Decoded sentence: -4\n",
      "\n",
      "-\n",
      "Input sentence: Solve 20*k + 26 = -14 for k.\n",
      "Decoded sentence: -2\n",
      "\n",
      "-\n",
      "Input sentence: Solve 80*x - 103*x - 115 = 0 for x.\n",
      "Decoded sentence: -5\n",
      "\n",
      "-\n",
      "Input sentence: Solve 6 = 7*w - 9*w for w.\n",
      "Decoded sentence: -3\n",
      "\n",
      "-\n",
      "Input sentence: Solve -8*b = -0*b - 16 for b.\n",
      "Decoded sentence: 2\n",
      "\n",
      "-\n",
      "Input sentence: Solve 5 = -3*b + 8 for b.\n",
      "Decoded sentence: 1\n",
      "\n",
      "-\n",
      "Input sentence: Solve -8*y = -7*y + 5*y for y.\n",
      "Decoded sentence: 0\n",
      "\n"
     ]
    }
   ],
   "source": [
    "for seq_index in range(100):\n",
    "    # Take one sequence (part of the training set)\n",
    "    # for trying out decoding.\n",
    "    input_seq = encoder_input_data[seq_index: seq_index + 1]\n",
    "    decoded_sentence = decode_sequence(input_seq)\n",
    "    print('-')\n",
    "    print('Input sentence:', input_texts[seq_index])\n",
    "    print('Decoded sentence:', decoded_sentence)"
   ]
  },
  {
   "cell_type": "code",
   "execution_count": 26,
   "metadata": {},
   "outputs": [],
   "source": [
    "import matplotlib.pyplot as plt"
   ]
  },
  {
   "cell_type": "code",
   "execution_count": 30,
   "metadata": {},
   "outputs": [
    {
     "data": {
      "image/png": "[encoded data removed]",
      "text/plain": [
       "<matplotlib.figure.Figure at 0x7f5dba3f26d8>"
      ]
     },
     "metadata": {},
     "output_type": "display_data"
    }
   ],
   "source": [
    "plt.plot(trian_hist.history['loss'], color='C0', label='loss (train)')\n",
    "plt.plot(trian_hist.history['val_loss'], color='C0', label='loss (valid)', linestyle='--')\n",
    "plt.plot(trian_hist.history['exact_match_metric'], color='C1', label='match (train)')\n",
    "plt.plot(trian_hist.history['val_exact_match_metric'], color='C1', label='match (valid)', linestyle='--')\n",
    "plt.xlabel('epochs')\n",
    "plt.ylabel('loss')\n",
    "plt.legend(loc='best')\n",
    "plt.ylim([0,1])\n",
    "plt.grid(True, linestyle='--')"
   ]
  },
  {
   "cell_type": "code",
   "execution_count": 31,
   "metadata": {},
   "outputs": [
    {
     "data": {
      "image/png": "[encoded data removed]",
      "text/plain": [
       "<matplotlib.figure.Figure at 0x7f4f920c41d0>"
      ]
     },
     "metadata": {},
     "output_type": "display_data"
    }
   ],
   "source": [
    "plt.plot(trian_hist.history['loss'], label='train')\n",
    "plt.plot(trian_hist.history['val_loss'], label='valid')\n",
    "plt.xlabel('epochs')\n",
    "plt.ylabel('loss')\n",
    "plt.legend(loc='best')\n",
    "plt.grid(True, linestyle='--')"
   ]
  },
  {
   "cell_type": "code",
   "execution_count": 32,
   "metadata": {},
   "outputs": [
    {
     "data": {
      "image/png": "[encoded data removed]",
      "text/plain": [
       "<matplotlib.figure.Figure at 0x7f4f92132f60>"
      ]
     },
     "metadata": {},
     "output_type": "display_data"
    }
   ],
   "source": [
    "plt.plot(trian_hist.history['exact_match_metric'], label='exact_match')\n",
    "plt.xlabel('epochs')\n",
    "plt.ylabel('loss')\n",
    "plt.legend(loc='best')\n",
    "plt.grid(True, linestyle='--')"
   ]
  },
  {
   "cell_type": "code",
   "execution_count": 33,
   "metadata": {},
   "outputs": [],
   "source": [
    "y_pred = model.predict_on_batch([encoder_input_data[:1024], decoder_input_data[:1024]])"
   ]
  },
  {
   "cell_type": "code",
   "execution_count": 34,
   "metadata": {},
   "outputs": [
    {
     "data": {
      "text/plain": [
       "(1024, 5, 13)"
      ]
     },
     "execution_count": 34,
     "metadata": {},
     "output_type": "execute_result"
    }
   ],
   "source": [
    "np.shape(y_pred)"
   ]
  },
  {
   "cell_type": "code",
   "execution_count": 35,
   "metadata": {},
   "outputs": [],
   "source": [
    "target = decoder_target_data[:1024]"
   ]
  },
  {
   "cell_type": "code",
   "execution_count": 36,
   "metadata": {},
   "outputs": [
    {
     "data": {
      "text/plain": [
       "(1024, 5, 13)"
      ]
     },
     "execution_count": 36,
     "metadata": {},
     "output_type": "execute_result"
    }
   ],
   "source": [
    "np.shape(target)"
   ]
  },
  {
   "cell_type": "code",
   "execution_count": 41,
   "metadata": {},
   "outputs": [
    {
     "data": {
      "text/plain": [
       "array([[ 2,  6,  1,  1,  1],\n",
       "       [ 2,  4,  1,  1,  1],\n",
       "       [ 2, 11,  1,  1,  1],\n",
       "       ...,\n",
       "       [ 2,  7,  1,  1,  1],\n",
       "       [ 6,  1,  1,  1,  1],\n",
       "       [10,  1,  1,  1,  1]])"
      ]
     },
     "execution_count": 41,
     "metadata": {},
     "output_type": "execute_result"
    }
   ],
   "source": [
    "argmax_pred = np.argmax(y_pred, axis=-1); argmax_pred"
   ]
  },
  {
   "cell_type": "code",
   "execution_count": 44,
   "metadata": {},
   "outputs": [
    {
     "data": {
      "text/plain": [
       "array([[0.9998703 , 0.99995303, 1.        , 0.99999046, 0.9999987 ],\n",
       "       [0.9991985 , 0.9999949 , 1.        , 0.9999999 , 1.        ],\n",
       "       [0.9997366 , 0.986476  , 1.        , 0.99978286, 0.9999335 ],\n",
       "       ...,\n",
       "       [0.99999976, 0.99999917, 1.        , 0.98244196, 0.99129385],\n",
       "       [0.99998057, 1.        , 0.99999833, 0.9999999 , 0.99999964],\n",
       "       [0.408946  , 1.        , 0.9999989 , 0.9999999 , 1.        ]],\n",
       "      dtype=float32)"
      ]
     },
     "execution_count": 44,
     "metadata": {},
     "output_type": "execute_result"
    }
   ],
   "source": [
    "max_pred = np.max(y_pred, axis=-1); max_pred"
   ]
  },
  {
   "cell_type": "code",
   "execution_count": 42,
   "metadata": {},
   "outputs": [
    {
     "data": {
      "text/plain": [
       "array([[ 2,  6,  1,  0,  0],\n",
       "       [ 2,  4,  1,  0,  0],\n",
       "       [ 2, 11,  1,  0,  0],\n",
       "       ...,\n",
       "       [ 2,  7,  1,  0,  0],\n",
       "       [ 6,  1,  0,  0,  0],\n",
       "       [10,  1,  0,  0,  0]])"
      ]
     },
     "execution_count": 42,
     "metadata": {},
     "output_type": "execute_result"
    }
   ],
   "source": [
    "argmax_targ = np.argmax(target, axis=-1); argmax_targ"
   ]
  },
  {
   "cell_type": "code",
   "execution_count": 39,
   "metadata": {},
   "outputs": [],
   "source": [
    "matching_batches = np.min(np.equal(argmax_pred, argmax_targ),axis=-1)"
   ]
  },
  {
   "cell_type": "code",
   "execution_count": 40,
   "metadata": {},
   "outputs": [
    {
     "data": {
      "text/plain": [
       "0"
      ]
     },
     "execution_count": 40,
     "metadata": {},
     "output_type": "execute_result"
    }
   ],
   "source": [
    "np.sum(matching_batches)"
   ]
  },
  {
   "cell_type": "code",
   "execution_count": 102,
   "metadata": {},
   "outputs": [],
   "source": []
  },
  {
   "cell_type": "code",
   "execution_count": 103,
   "metadata": {},
   "outputs": [],
   "source": [
    "input_tensor_1 = tf.placeholder('float', shape=[None, 3, 2])\n",
    "input_tensor_2 = tf.placeholder('float', shape=[None, 3, 2])\n",
    "\n",
    "results= exact_match_metric(input_tensor_1, input_tensor_2)"
   ]
  },
  {
   "cell_type": "code",
   "execution_count": 105,
   "metadata": {},
   "outputs": [
    {
     "name": "stdout",
     "output_type": "stream",
     "text": [
      "[1.0]\n"
     ]
    }
   ],
   "source": [
    "tensor_1 = np.array([[[1,0],[0,1],[1,0]]])\n",
    "tensor_2 = np.array([[[1,0],[0,1],[2,1.1]]])\n",
    "\n",
    "with tf.Session() as sess:\n",
    "    res = sess.run([results], feed_dict={input_tensor_1: tensor_1,\n",
    "                                         input_tensor_2: tensor_2})\n",
    "print(res)"
   ]
  },
  {
   "cell_type": "code",
   "execution_count": 85,
   "metadata": {},
   "outputs": [
    {
     "data": {
      "text/plain": [
       "[1.0]"
      ]
     },
     "execution_count": 85,
     "metadata": {},
     "output_type": "execute_result"
    }
   ],
   "source": [
    "res"
   ]
  },
  {
   "cell_type": "code",
   "execution_count": 60,
   "metadata": {},
   "outputs": [
    {
     "data": {
      "text/plain": [
       "array([[1, 1, 1]])"
      ]
     },
     "execution_count": 60,
     "metadata": {},
     "output_type": "execute_result"
    }
   ],
   "source": [
    "np.sum(tensor_1, axis=-1)"
   ]
  },
  {
   "cell_type": "code",
   "execution_count": 61,
   "metadata": {},
   "outputs": [
    {
     "data": {
      "text/plain": [
       "array([[1, 1, 0]])"
      ]
     },
     "execution_count": 61,
     "metadata": {},
     "output_type": "execute_result"
    }
   ],
   "source": [
    "np.sum(tensor_2, axis=-1)"
   ]
  },
  {
   "cell_type": "code",
   "execution_count": null,
   "metadata": {},
   "outputs": [],
   "source": [
    "print(1)"
   ]
  },
  {
   "cell_type": "code",
   "execution_count": 21,
   "metadata": {},
   "outputs": [
    {
     "data": {
      "text/plain": [
       "'1.5.0'"
      ]
     },
     "execution_count": 21,
     "metadata": {},
     "output_type": "execute_result"
    }
   ],
   "source": [
    "tf.__version__"
   ]
  },
  {
   "cell_type": "code",
   "execution_count": 31,
   "metadata": {},
   "outputs": [],
   "source": [
    "from lstm import LSTM_S2S"
   ]
  },
  {
   "cell_type": "code",
   "execution_count": 32,
   "metadata": {},
   "outputs": [],
   "source": [
    "lstm = LSTM_S2S(num_encoder_tokens, num_decoder_tokens, latent_dim)"
   ]
  },
  {
   "cell_type": "code",
   "execution_count": 33,
   "metadata": {},
   "outputs": [],
   "source": [
    "model = lstm.get_model()"
   ]
  },
  {
   "cell_type": "code",
   "execution_count": 34,
   "metadata": {},
   "outputs": [
    {
     "name": "stdout",
     "output_type": "stream",
     "text": [
      "Train on 533332 samples, validate on 133334 samples\n",
      "Epoch 1/1\n",
      "533332/533332 [==============================] - 80s 150us/step - loss: 0.6207 - exact_match_metric: 0.0534 - val_loss: 0.5724 - val_exact_match_metric: 0.0740\n"
     ]
    }
   ],
   "source": [
    "adam = Adam(lr=6e-4, beta_1=0.9, beta_2=0.995, epsilon=1e-9, decay=0.0, amsgrad=False)\n",
    "\n",
    "model.compile(optimizer=adam, loss='categorical_crossentropy', metrics=[exact_match_metric])\n",
    "trian_hist = model.fit([encoder_input_data, decoder_input_data], decoder_target_data,\n",
    "                       batch_size=batch_size,\n",
    "                       epochs=1,\n",
    "                       validation_split=0.2\n",
    "                       )"
   ]
  },
  {
   "cell_type": "code",
   "execution_count": 35,
   "metadata": {},
   "outputs": [],
   "source": [
    "input_samples = [encoder_input_data[seq_index: seq_index + 1] for seq_index in range(10)]\n",
    "input_\n",
    "\n",
    "outputs = lstm.decode_sample(input_samples,target_token_index, max_decoder_seq_length)"
   ]
  },
  {
   "cell_type": "code",
   "execution_count": 37,
   "metadata": {},
   "outputs": [
    {
     "name": "stdout",
     "output_type": "stream",
     "text": [
      "Solve 0 = 4*b + b + 15 for b.\n",
      "-1\n",
      "\n",
      "Solve -3*d = -0*d + 3 for d.\n",
      "-1\n",
      "\n",
      "Solve -4*h + 9 = 41 for h.\n",
      "-1\n",
      "\n",
      "Solve 2514*m = 2508*m - 24 for m.\n",
      "-1\n",
      "\n",
      "Solve -7*a + 6*a = 4 for a.\n",
      "-1\n",
      "\n",
      "Solve 288*w - 298*w = -70 for w.\n",
      "-1\n",
      "\n",
      "Solve -14*h = -4*h - 10 for h.\n",
      "-1\n",
      "\n",
      "Solve 5*w + 3 = -2 for w.\n",
      "-1\n",
      "\n",
      "Solve -15*f + 21*f - 12 = 0 for f.\n",
      "-1\n",
      "\n",
      "Solve -22 = 6*c - 4 for c.\n",
      "-1\n",
      "\n"
     ]
    }
   ],
   "source": [
    "for i,o in zip(input_texts[:10], outputs):\n",
    "    print(i)\n",
    "    print(o)"
   ]
  },
  {
   "cell_type": "code",
   "execution_count": 38,
   "metadata": {},
   "outputs": [],
   "source": [
    "def exact_match_metric_old(y_true, y_pred):\n",
    "    y_pred_discrete = tf.one_hot(tf.argmax(y_pred, axis=-1), tf.shape(y_pred)[-1], axis=-1)\n",
    "\n",
    "    pred_match = tf.equal(y_pred_discrete, y_true)\n",
    "    \n",
    "    pred_match = tf.where(\n",
    "        tf.tile(\n",
    "            tf.expand_dims(\n",
    "                tf.equal(tf.reduce_sum(y_true, axis=-1),0),\n",
    "                axis=-1),\n",
    "            [1,1,tf.shape(pred_match)[-1]]),\n",
    "        tf.ones_like(pred_match, dtype=tf.bool), pred_match)\n",
    "    \n",
    "    exact_match = tf.reduce_min(tf.to_float(pred_match), axis=[1,2])\n",
    "    return tf.reduce_mean(exact_match)"
   ]
  },
  {
   "cell_type": "code",
   "execution_count": null,
   "metadata": {},
   "outputs": [],
   "source": [
    "class NValidationSetsCallback(Callback):\n",
    "    def __init__(self, validation_sets, verbose=0, batch_size=None):\n",
    "        \"\"\"\n",
    "        :param validation_sets:\n",
    "        dictionary mapping validation set name to validation set generator\n",
    "        :param verbose:\n",
    "        verbosity mode, 1 or 0\n",
    "        :param batch_size:\n",
    "        batch size to be used when evaluating on the additional datasets\n",
    "        \"\"\"\n",
    "        super(AdditionalValidationSets, self).__init__()\n",
    "        self.validation_sets = validation_sets\n",
    "        self.epoch = []\n",
    "        self.history = {}\n",
    "        self.verbose = verbose\n",
    "        self.batch_size = batch_size\n",
    "\n",
    "    def on_train_begin(self, logs=None):\n",
    "        self.epoch = []\n",
    "        self.history = {}\n",
    "\n",
    "    def on_epoch_end(self, epoch, logs=None):\n",
    "        logs = logs or {}\n",
    "        self.epoch.append(epoch)\n",
    "\n",
    "        # record the same values as History() as well\n",
    "        for k, v in logs.items():\n",
    "            self.history.setdefault(k, []).append(v)\n",
    "\n",
    "        # evaluate on the additional validation sets\n",
    "        for validation_set_name, validation_set in self.validation_sets.items():\n",
    "            results = self.model.evaluate_generator(validation_set,\n",
    "                                                    verbose=self.verbose,\n",
    "                                                    batch_size=self.batch_size)\n",
    "\n",
    "            for i, result in enumerate(results):\n",
    "                if i == 0:\n",
    "                    valuename = validation_set_name + '_loss'\n",
    "                else:\n",
    "                    valuename = validation_set_name + '_' + self.model.metrics[i-1].__name__\n",
    "                self.history.setdefault(valuename, []).append(result)"
   ]
  },
  {
   "cell_type": "code",
   "execution_count": 5,
   "metadata": {},
   "outputs": [],
   "source": [
    "a = [1,2,3]\n",
    "b = [3,2]"
   ]
  },
  {
   "cell_type": "code",
   "execution_count": 7,
   "metadata": {},
   "outputs": [
    {
     "data": {
      "text/plain": [
       "[1, 2, 3, 3, 2]"
      ]
     },
     "execution_count": 7,
     "metadata": {},
     "output_type": "execute_result"
    }
   ],
   "source": [
    "sum([a,b], [])"
   ]
  },
  {
   "cell_type": "code",
   "execution_count": null,
   "metadata": {},
   "outputs": [],
   "source": []
  }
 ],
 "metadata": {
  "kernelspec": {
   "display_name": "Python 3",
   "language": "python",
   "name": "python3"
  },
  "language_info": {
   "codemirror_mode": {
    "name": "ipython",
    "version": 3
   },
   "file_extension": ".py",
   "mimetype": "text/x-python",
   "name": "python",
   "nbconvert_exporter": "python",
   "pygments_lexer": "ipython3",
   "version": "3.5.2"
  }
 },
 "nbformat": 4,
 "nbformat_minor": 2
}
