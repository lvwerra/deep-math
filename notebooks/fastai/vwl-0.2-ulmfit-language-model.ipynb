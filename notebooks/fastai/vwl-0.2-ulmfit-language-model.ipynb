{
 "cells": [
  {
   "cell_type": "code",
   "execution_count": 1,
   "metadata": {},
   "outputs": [
    {
     "name": "stdout",
     "output_type": "stream",
     "text": [
      "1.0.57\n"
     ]
    }
   ],
   "source": [
    "from fastai import *\n",
    "from fastai.text import *\n",
    "import fastai\n",
    "print(fastai.__version__)"
   ]
  },
  {
   "cell_type": "code",
   "execution_count": 2,
   "metadata": {},
   "outputs": [],
   "source": [
    "from pathlib import Path\n",
    "import pandas as pd"
   ]
  },
  {
   "cell_type": "code",
   "execution_count": 3,
   "metadata": {},
   "outputs": [],
   "source": [
    "def load_text_as_df(file_path):\n",
    "    with open(str(file_path), 'r', encoding='UTF-8') as f:\n",
    "        str_list = f.readlines()\n",
    "    return pd.DataFrame(str_list, columns=['text'])"
   ]
  },
  {
   "cell_type": "code",
   "execution_count": 4,
   "metadata": {},
   "outputs": [
    {
     "name": "stdout",
     "output_type": "stream",
     "text": [
      "data_bunch_arithmetics_25perc  extrapolate.csv\tmodels\r\n",
      "data_bunch_arithmetics_50perc  interpolate.csv\ttrain.csv\r\n"
     ]
    }
   ],
   "source": [
    "fastai_data_path = Path('/storage/git/deep-math/data/interim/fastai/concat')\n",
    "!ls {fastai_data_path}"
   ]
  },
  {
   "cell_type": "code",
   "execution_count": 5,
   "metadata": {},
   "outputs": [],
   "source": [
    "train_path = fastai_data_path/'train.csv'\n",
    "inter_path = fastai_data_path/'interpolate.csv'\n",
    "extra_path = fastai_data_path/'extrapolate.csv'"
   ]
  },
  {
   "cell_type": "code",
   "execution_count": 6,
   "metadata": {},
   "outputs": [],
   "source": [
    "df_train = load_text_as_df(train_path)\n",
    "df_inter = load_text_as_df(inter_path)\n",
    "df_extra = load_text_as_df(extra_path)"
   ]
  },
  {
   "cell_type": "code",
   "execution_count": 7,
   "metadata": {},
   "outputs": [
    {
     "data": {
      "text/html": [
       "<div>\n",
       "<style scoped>\n",
       "    .dataframe tbody tr th:only-of-type {\n",
       "        vertical-align: middle;\n",
       "    }\n",
       "\n",
       "    .dataframe tbody tr th {\n",
       "        vertical-align: top;\n",
       "    }\n",
       "\n",
       "    .dataframe thead th {\n",
       "        text-align: right;\n",
       "    }\n",
       "</style>\n",
       "<table border=\"1\" class=\"dataframe\">\n",
       "  <thead>\n",
       "    <tr style=\"text-align: right;\">\n",
       "      <th></th>\n",
       "      <th>text</th>\n",
       "    </tr>\n",
       "  </thead>\n",
       "  <tbody>\n",
       "    <tr>\n",
       "      <th>0</th>\n",
       "      <td>What is 1 + -9 - -5 - -1?                -2\\n</td>\n",
       "    </tr>\n",
       "    <tr>\n",
       "      <th>1</th>\n",
       "      <td>-2 + 0 + (3 - 1)                0\\n</td>\n",
       "    </tr>\n",
       "    <tr>\n",
       "      <th>2</th>\n",
       "      <td>Calculate 8 - (0 + 7 + -4).                5\\n</td>\n",
       "    </tr>\n",
       "    <tr>\n",
       "      <th>3</th>\n",
       "      <td>What is the value of (-19 - -12) + (-6 - -5) -...</td>\n",
       "    </tr>\n",
       "    <tr>\n",
       "      <th>4</th>\n",
       "      <td>Evaluate (2 + -8 - -2) + -120 + 129.          ...</td>\n",
       "    </tr>\n",
       "  </tbody>\n",
       "</table>\n",
       "</div>"
      ],
      "text/plain": [
       "                                                text\n",
       "0      What is 1 + -9 - -5 - -1?                -2\\n\n",
       "1                -2 + 0 + (3 - 1)                0\\n\n",
       "2     Calculate 8 - (0 + 7 + -4).                5\\n\n",
       "3  What is the value of (-19 - -12) + (-6 - -5) -...\n",
       "4  Evaluate (2 + -8 - -2) + -120 + 129.          ..."
      ]
     },
     "execution_count": 7,
     "metadata": {},
     "output_type": "execute_result"
    }
   ],
   "source": [
    "df_train.head()"
   ]
  },
  {
   "cell_type": "code",
   "execution_count": 8,
   "metadata": {},
   "outputs": [],
   "source": [
    "class CharTokenizer(BaseTokenizer):\n",
    "    def tokenizer(self, t):\n",
    "        return ['xxbos'] + list(t.replace('xxbos', '').replace(' ', '_'))\n",
    "tok = Tokenizer(tok_func=CharTokenizer, pre_rules=[], post_rules=[], special_cases=[])"
   ]
  },
  {
   "cell_type": "code",
   "execution_count": 9,
   "metadata": {},
   "outputs": [],
   "source": [
    "data = TextLMDataBunch.from_df(fastai_data_path, df_train.sample(frac=0.25) ,df_inter, df_extra,\n",
    "                               tokenizer=tok, text_cols=0)"
   ]
  },
  {
   "cell_type": "code",
   "execution_count": 10,
   "metadata": {},
   "outputs": [
    {
     "data": {
      "text/html": [
       "<table border=\"1\" class=\"dataframe\">\n",
       "  <thead>\n",
       "    <tr style=\"text-align: right;\">\n",
       "      <th>idx</th>\n",
       "      <th>text</th>\n",
       "    </tr>\n",
       "  </thead>\n",
       "  <tbody>\n",
       "    <tr>\n",
       "      <td>0</td>\n",
       "      <td>( - 1 _ - _ 7 ) * ( - 3 _ - _ 4 9 / ( - 1 4 ) ) . _ _ _ _ _ _ _ _ _ _ _ _ _ _ _ _ - 4 \\n xxbos _ W h a t _ i s _ 0 . 4 _ - _ 7 8 2 9 ? _ _ _ _ _</td>\n",
       "    </tr>\n",
       "    <tr>\n",
       "      <td>1</td>\n",
       "      <td>S i m p l i f y _ ( - 2 * 2 * s q r t ( 2 4 3 ) _ - _ ( s q r t ( 2 4 3 ) _ + _ 5 * 2 * s q r t ( 2 4 3 ) _ + _ s q r t ( 2 4 3 ) ) ) / ( (</td>\n",
       "    </tr>\n",
       "    <tr>\n",
       "      <td>2</td>\n",
       "      <td>a n d _ - 1 . _ _ _ _ _ _ _ _ _ _ _ _ _ _ _ _ 3 5 . 3 2 \\n xxbos _ 3 _ * _ 8 . 9 _ _ _ _ _ _ _ _ _ _ _ _ _ _ _ _ 2 6 . 7 \\n xxbos _ I n _ b a s e _ 1</td>\n",
       "    </tr>\n",
       "    <tr>\n",
       "      <td>3</td>\n",
       "      <td>9 0 4 2 2 _ p l u s _ - 0 . 3 ? _ _ _ _ _ _ _ _ _ _ _ _ _ _ _ _ - 1 1 3 2 0 2 6 9 0 4 2 2 . 3 \\n xxbos _ W h a t _ i s _ - 1 * ( - 4 ) / 4 * 2 /</td>\n",
       "    </tr>\n",
       "    <tr>\n",
       "      <td>4</td>\n",
       "      <td>4 ) * - 4 * 5 * ( - 1 0 ) / ( - 1 2 5 ) ? _ _ _ _ _ _ _ _ _ _ _ _ _ _ _ _ - 8 \\n xxbos _ D i v i d e _ - 1 6 3 5 0 _ b y _ 3 2 7 . _ _ _ _ _ _ _</td>\n",
       "    </tr>\n",
       "  </tbody>\n",
       "</table>"
      ],
      "text/plain": [
       "<IPython.core.display.HTML object>"
      ]
     },
     "metadata": {},
     "output_type": "display_data"
    }
   ],
   "source": [
    "data.show_batch()"
   ]
  },
  {
   "cell_type": "code",
   "execution_count": 11,
   "metadata": {},
   "outputs": [],
   "source": [
    "data.save('data_bunch_arithmetics_25perc')"
   ]
  },
  {
   "cell_type": "code",
   "execution_count": 12,
   "metadata": {},
   "outputs": [],
   "source": [
    "learn = language_model_learner(data, AWD_LSTM, drop_mult=0.5)"
   ]
  },
  {
   "cell_type": "code",
   "execution_count": 13,
   "metadata": {},
   "outputs": [
    {
     "data": {
      "text/html": [],
      "text/plain": [
       "<IPython.core.display.HTML object>"
      ]
     },
     "metadata": {},
     "output_type": "display_data"
    },
    {
     "name": "stdout",
     "output_type": "stream",
     "text": [
      "LR Finder is complete, type {learner_name}.recorder.plot() to see the graph.\n",
      "Min numerical gradient: 8.32E-02\n",
      "Min loss divided by 10: 1.32E-01\n"
     ]
    },
    {
     "data": {
      "image/png": "[encoded data removed]",
      "text/plain": [
       "<Figure size 432x288 with 1 Axes>"
      ]
     },
     "metadata": {
      "needs_background": "light"
     },
     "output_type": "display_data"
    }
   ],
   "source": [
    "learn.lr_find()\n",
    "learn.recorder.plot(skip_start=10, skip_end=10, suggestion=True)"
   ]
  },
  {
   "cell_type": "code",
   "execution_count": 14,
   "metadata": {},
   "outputs": [
    {
     "data": {
      "text/html": [
       "<table border=\"1\" class=\"dataframe\">\n",
       "  <thead>\n",
       "    <tr style=\"text-align: left;\">\n",
       "      <th>epoch</th>\n",
       "      <th>train_loss</th>\n",
       "      <th>valid_loss</th>\n",
       "      <th>accuracy</th>\n",
       "      <th>time</th>\n",
       "    </tr>\n",
       "  </thead>\n",
       "  <tbody>\n",
       "    <tr>\n",
       "      <td>0</td>\n",
       "      <td>0.931580</td>\n",
       "      <td>0.892724</td>\n",
       "      <td>0.708046</td>\n",
       "      <td>1:06:41</td>\n",
       "    </tr>\n",
       "    <tr>\n",
       "      <td>1</td>\n",
       "      <td>0.926415</td>\n",
       "      <td>0.890065</td>\n",
       "      <td>0.708769</td>\n",
       "      <td>1:06:45</td>\n",
       "    </tr>\n",
       "    <tr>\n",
       "      <td>2</td>\n",
       "      <td>0.919130</td>\n",
       "      <td>0.899690</td>\n",
       "      <td>0.710071</td>\n",
       "      <td>1:06:45</td>\n",
       "    </tr>\n",
       "    <tr>\n",
       "      <td>3</td>\n",
       "      <td>0.931552</td>\n",
       "      <td>0.897678</td>\n",
       "      <td>0.707299</td>\n",
       "      <td>1:06:46</td>\n",
       "    </tr>\n",
       "    <tr>\n",
       "      <td>4</td>\n",
       "      <td>0.913342</td>\n",
       "      <td>0.892686</td>\n",
       "      <td>0.708070</td>\n",
       "      <td>1:06:46</td>\n",
       "    </tr>\n",
       "    <tr>\n",
       "      <td>5</td>\n",
       "      <td>0.924522</td>\n",
       "      <td>0.889046</td>\n",
       "      <td>0.710032</td>\n",
       "      <td>1:06:48</td>\n",
       "    </tr>\n",
       "    <tr>\n",
       "      <td>6</td>\n",
       "      <td>0.917520</td>\n",
       "      <td>0.885040</td>\n",
       "      <td>0.710360</td>\n",
       "      <td>1:06:46</td>\n",
       "    </tr>\n",
       "    <tr>\n",
       "      <td>7</td>\n",
       "      <td>0.905601</td>\n",
       "      <td>0.881047</td>\n",
       "      <td>0.710526</td>\n",
       "      <td>1:06:46</td>\n",
       "    </tr>\n",
       "    <tr>\n",
       "      <td>8</td>\n",
       "      <td>0.903584</td>\n",
       "      <td>0.878826</td>\n",
       "      <td>0.710804</td>\n",
       "      <td>1:06:47</td>\n",
       "    </tr>\n",
       "    <tr>\n",
       "      <td>9</td>\n",
       "      <td>0.896460</td>\n",
       "      <td>0.878453</td>\n",
       "      <td>0.711151</td>\n",
       "      <td>1:06:47</td>\n",
       "    </tr>\n",
       "  </tbody>\n",
       "</table>"
      ],
      "text/plain": [
       "<IPython.core.display.HTML object>"
      ]
     },
     "metadata": {},
     "output_type": "display_data"
    }
   ],
   "source": [
    "learn.fit_one_cycle(10, 0.02)"
   ]
  },
  {
   "cell_type": "code",
   "execution_count": 17,
   "metadata": {},
   "outputs": [
    {
     "data": {
      "image/png": "[encoded data removed]",
      "text/plain": [
       "<Figure size 432x288 with 1 Axes>"
      ]
     },
     "metadata": {
      "needs_background": "light"
     },
     "output_type": "display_data"
    }
   ],
   "source": [
    "learn.recorder.plot_losses(skip_start=1000)"
   ]
  },
  {
   "cell_type": "code",
   "execution_count": 16,
   "metadata": {},
   "outputs": [],
   "source": [
    "learn.save('arithmetics_25perc')"
   ]
  },
  {
   "cell_type": "code",
   "execution_count": 26,
   "metadata": {},
   "outputs": [
    {
     "data": {
      "text/plain": [
       "'Calculate 8 - (0 + 7 + -4).                5\\n'"
      ]
     },
     "execution_count": 26,
     "metadata": {},
     "output_type": "execute_result"
    }
   ],
   "source": [
    "df_train['text'].iloc[2]"
   ]
  },
  {
   "cell_type": "code",
   "execution_count": 33,
   "metadata": {},
   "outputs": [
    {
     "name": "stdout",
     "output_type": "stream",
     "text": [
      "What is 1 + -9 - -5 - -1? _ _ _ _ _ _ _ _ _ _ _ _ _ _ 6 3 2 \n",
      " xxbos _\n",
      "solution: -2\n",
      "\n",
      "\n",
      "-2 + 0 + (3 - 1) _ + _ 6 _ + _ 1 . _ _ _ _ _ _ _ _ _ _ _\n",
      "solution: 0\n",
      "\n",
      "\n",
      "Calculate 8 - (0 + 7 + -4). _ _ _ _ _ _ _ _ _ _ _ _ _ _ - 9 \n",
      " xxbos _ M\n",
      "solution: 5\n",
      "\n",
      "\n",
      "What is the value of (-19 - -12) + (-6 - -5) - -15? _ _ _ _ _ _ _ _ _ _ _ _ _ _ _ _ _ - 4 6\n",
      "solution: 7\n",
      "\n",
      "\n",
      "Evaluate (2 + -8 - -2) + -120 + 129. _ _ _ _ _ _ _ _ _ _ _ _ _ - 1 \n",
      " xxbos _ W h\n",
      "solution: 5\n",
      "\n",
      "\n",
      "What is the value of (47 - 40) + -9 + 0? _ _ _ _ _ _ _ _ _ _ _ _ _ _ - 1 5 \n",
      " xxbos _\n",
      "solution: -2\n",
      "\n",
      "\n",
      "Calculate -27 + 29 - (-2 + 3). _ _ _ _ _ _ _ _ _ _ _ _ _ 4 2 / 1 2 \n",
      " xxbos\n",
      "solution: 1\n",
      "\n",
      "\n",
      "Calculate (3 - 5) + (4 - 2) - -4. _ _ _ _ _ _ _ _ _ _ _ _ _ _ - 7 7 0 \n",
      " xxbos\n",
      "solution: 4\n",
      "\n",
      "\n",
      "Calculate -7 + 7 + (-5 - -3). _ _ _ _ _ _ _ _ _ _ _ _ _ - 1 1 \n",
      " xxbos _ I\n",
      "solution: -2\n",
      "\n",
      "\n",
      "What is the value of 8 + -4 + 10 + -7? _ _ _ _ _ _ _ _ _ _ _ _ _ _ _ 1 4 \n",
      " xxbos _\n",
      "solution: 7\n",
      "\n",
      "\n",
      "What is the value of (-4 - -6) + (0 - -1) + 0? _ _ _ _ _ _ _ _ _ _ _ _ _ _ _ _ - 1 \n",
      " xxbos\n",
      "solution: 3\n",
      "\n",
      "\n",
      "What is the value of -2 - (-2 + (-5 - (-7 - -2)))? _ _ _ _ _ _ _ _ _ _ _ _ _ - 1 \n",
      " xxbos _ W h\n",
      "solution: 0\n",
      "\n",
      "\n",
      "Calculate 9 - (0 + 7 + -2). _ _ _ _ _ _ _ _ _ _ _ _ _ _ _ - 7 / 1 7\n",
      "solution: 4\n",
      "\n",
      "\n",
      "Evaluate -27 + (3 - -22) + (-1 - -6). _ _ _ _ _ _ _ _ _ _ _ _ _ _ _ - 4 \n",
      " xxbos _\n",
      "solution: 3\n",
      "\n",
      "\n",
      "What is 6 + (-2 - 2) - -5? _ _ _ _ _ _ _ _ _ _ _ _ _ _ - 6 \n",
      " xxbos _ W\n",
      "solution: 7\n",
      "\n",
      "\n",
      "What is -2 - (-2 + -1 - -2)? _ _ _ _ _ _ _ _ _ _ _ _ _ 5 \n",
      " xxbos _ P u t\n",
      "solution: -1\n",
      "\n",
      "\n",
      "What is -3 + (3 + -1 - (1 + 2))? _ _ _ _ _ _ _ _ _ _ _ _ _ _ _ _ _ _ - 4\n",
      "solution: -4\n",
      "\n",
      "\n",
      "Calculate -10 - (-7 + 12 + -12). _ _ _ _ _ _ _ _ _ _ _ _ _ _ _ _ _ 5 3 \n",
      "\n",
      "solution: -3\n",
      "\n",
      "\n",
      "Calculate -5 + -3 + (0 - -7) - -2. _ _ _ _ _ _ _ _ _ _ _ _ _ _ - 5 3 8 8 7\n",
      "solution: 1\n",
      "\n",
      "\n",
      "Evaluate -5 + -4 + 13 + (-2 - -2). _ _ _ _ _ _ _ _ _ _ _ _ - 6 \n",
      " xxbos _ I n _\n",
      "solution: 4\n",
      "\n",
      "\n"
     ]
    }
   ],
   "source": [
    "for i in range(20):\n",
    "    text = df_train['text'].iloc[i]\n",
    "    print(learn.predict(text.split(' '*16)[0], n_words=20))\n",
    "    print('solution:', text.split(' '*16)[1])\n",
    "    print()"
   ]
  },
  {
   "cell_type": "code",
   "execution_count": null,
   "metadata": {},
   "outputs": [],
   "source": []
  }
 ],
 "metadata": {
  "kernelspec": {
   "display_name": "Python 3",
   "language": "python",
   "name": "python3"
  },
  "language_info": {
   "codemirror_mode": {
    "name": "ipython",
    "version": 3
   },
   "file_extension": ".py",
   "mimetype": "text/x-python",
   "name": "python",
   "nbconvert_exporter": "python",
   "pygments_lexer": "ipython3",
   "version": "3.6.7"
  }
 },
 "nbformat": 4,
 "nbformat_minor": 2
}
